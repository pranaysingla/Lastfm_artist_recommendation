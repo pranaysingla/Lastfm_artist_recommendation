{
 "cells": [
  {
   "cell_type": "markdown",
   "metadata": {},
   "source": [
    "## <center> Artist Recommendation using Collaborative Filtering\n",
    "By: Pranay Singla"
   ]
  },
  {
   "cell_type": "code",
   "execution_count": 1,
   "metadata": {},
   "outputs": [],
   "source": [
    "# Loading libraries\n",
    "import pandas as pd\n",
    "import numpy as np\n",
    "\n",
    "from sklearn.metrics.pairwise import cosine_similarity\n",
    "from scipy import sparse\n",
    "pd.options.mode.chained_assignment = None"
   ]
  },
  {
   "cell_type": "markdown",
   "metadata": {},
   "source": [
    "#### Data Cleaning and Wrangling"
   ]
  },
  {
   "cell_type": "code",
   "execution_count": 2,
   "metadata": {},
   "outputs": [],
   "source": [
    "# reading lastfm data\n",
    "df1 = pd.read_csv('usersha1-artmbid-artname-plays.tsv', sep = '\\t', names = ['user','artist_id','artist','plays'])"
   ]
  },
  {
   "cell_type": "code",
   "execution_count": 3,
   "metadata": {},
   "outputs": [
    {
     "data": {
      "text/html": [
       "<div>\n",
       "<style scoped>\n",
       "    .dataframe tbody tr th:only-of-type {\n",
       "        vertical-align: middle;\n",
       "    }\n",
       "\n",
       "    .dataframe tbody tr th {\n",
       "        vertical-align: top;\n",
       "    }\n",
       "\n",
       "    .dataframe thead th {\n",
       "        text-align: right;\n",
       "    }\n",
       "</style>\n",
       "<table border=\"1\" class=\"dataframe\">\n",
       "  <thead>\n",
       "    <tr style=\"text-align: right;\">\n",
       "      <th></th>\n",
       "      <th>user</th>\n",
       "      <th>artist_id</th>\n",
       "      <th>artist</th>\n",
       "      <th>plays</th>\n",
       "    </tr>\n",
       "  </thead>\n",
       "  <tbody>\n",
       "    <tr>\n",
       "      <th>0</th>\n",
       "      <td>00000c289a1829a808ac09c00daf10bc3c4e223b</td>\n",
       "      <td>3bd73256-3905-4f3a-97e2-8b341527f805</td>\n",
       "      <td>betty blowtorch</td>\n",
       "      <td>2137</td>\n",
       "    </tr>\n",
       "    <tr>\n",
       "      <th>1</th>\n",
       "      <td>00000c289a1829a808ac09c00daf10bc3c4e223b</td>\n",
       "      <td>f2fb0ff0-5679-42ec-a55c-15109ce6e320</td>\n",
       "      <td>die Ärzte</td>\n",
       "      <td>1099</td>\n",
       "    </tr>\n",
       "    <tr>\n",
       "      <th>2</th>\n",
       "      <td>00000c289a1829a808ac09c00daf10bc3c4e223b</td>\n",
       "      <td>b3ae82c2-e60b-4551-a76d-6620f1b456aa</td>\n",
       "      <td>melissa etheridge</td>\n",
       "      <td>897</td>\n",
       "    </tr>\n",
       "    <tr>\n",
       "      <th>3</th>\n",
       "      <td>00000c289a1829a808ac09c00daf10bc3c4e223b</td>\n",
       "      <td>3d6bbeb7-f90e-4d10-b440-e153c0d10b53</td>\n",
       "      <td>elvenking</td>\n",
       "      <td>717</td>\n",
       "    </tr>\n",
       "    <tr>\n",
       "      <th>4</th>\n",
       "      <td>00000c289a1829a808ac09c00daf10bc3c4e223b</td>\n",
       "      <td>bbd2ffd7-17f4-4506-8572-c1ea58c3f9a8</td>\n",
       "      <td>juliette &amp; the licks</td>\n",
       "      <td>706</td>\n",
       "    </tr>\n",
       "  </tbody>\n",
       "</table>\n",
       "</div>"
      ],
      "text/plain": [
       "                                       user  \\\n",
       "0  00000c289a1829a808ac09c00daf10bc3c4e223b   \n",
       "1  00000c289a1829a808ac09c00daf10bc3c4e223b   \n",
       "2  00000c289a1829a808ac09c00daf10bc3c4e223b   \n",
       "3  00000c289a1829a808ac09c00daf10bc3c4e223b   \n",
       "4  00000c289a1829a808ac09c00daf10bc3c4e223b   \n",
       "\n",
       "                              artist_id                artist  plays  \n",
       "0  3bd73256-3905-4f3a-97e2-8b341527f805       betty blowtorch   2137  \n",
       "1  f2fb0ff0-5679-42ec-a55c-15109ce6e320             die Ärzte   1099  \n",
       "2  b3ae82c2-e60b-4551-a76d-6620f1b456aa     melissa etheridge    897  \n",
       "3  3d6bbeb7-f90e-4d10-b440-e153c0d10b53             elvenking    717  \n",
       "4  bbd2ffd7-17f4-4506-8572-c1ea58c3f9a8  juliette & the licks    706  "
      ]
     },
     "execution_count": 3,
     "metadata": {},
     "output_type": "execute_result"
    }
   ],
   "source": [
    "df1.head()"
   ]
  },
  {
   "cell_type": "code",
   "execution_count": 4,
   "metadata": {},
   "outputs": [],
   "source": [
    "# reading user profile data\n",
    "user_profile = pd.read_csv('usersha1-profile.tsv', sep = '\\t', names = ['user','gender','age','country','signup'])"
   ]
  },
  {
   "cell_type": "code",
   "execution_count": 5,
   "metadata": {},
   "outputs": [
    {
     "data": {
      "text/html": [
       "<div>\n",
       "<style scoped>\n",
       "    .dataframe tbody tr th:only-of-type {\n",
       "        vertical-align: middle;\n",
       "    }\n",
       "\n",
       "    .dataframe tbody tr th {\n",
       "        vertical-align: top;\n",
       "    }\n",
       "\n",
       "    .dataframe thead th {\n",
       "        text-align: right;\n",
       "    }\n",
       "</style>\n",
       "<table border=\"1\" class=\"dataframe\">\n",
       "  <thead>\n",
       "    <tr style=\"text-align: right;\">\n",
       "      <th></th>\n",
       "      <th>user</th>\n",
       "      <th>gender</th>\n",
       "      <th>age</th>\n",
       "      <th>country</th>\n",
       "      <th>signup</th>\n",
       "    </tr>\n",
       "  </thead>\n",
       "  <tbody>\n",
       "    <tr>\n",
       "      <th>0</th>\n",
       "      <td>00000c289a1829a808ac09c00daf10bc3c4e223b</td>\n",
       "      <td>f</td>\n",
       "      <td>22.0</td>\n",
       "      <td>Germany</td>\n",
       "      <td>Feb 1, 2007</td>\n",
       "    </tr>\n",
       "    <tr>\n",
       "      <th>1</th>\n",
       "      <td>00001411dc427966b17297bf4d69e7e193135d89</td>\n",
       "      <td>f</td>\n",
       "      <td>NaN</td>\n",
       "      <td>Canada</td>\n",
       "      <td>Dec 4, 2007</td>\n",
       "    </tr>\n",
       "    <tr>\n",
       "      <th>2</th>\n",
       "      <td>00004d2ac9316e22dc007ab2243d6fcb239e707d</td>\n",
       "      <td>NaN</td>\n",
       "      <td>NaN</td>\n",
       "      <td>Germany</td>\n",
       "      <td>Sep 1, 2006</td>\n",
       "    </tr>\n",
       "    <tr>\n",
       "      <th>3</th>\n",
       "      <td>000063d3fe1cf2ba248b9e3c3f0334845a27a6bf</td>\n",
       "      <td>m</td>\n",
       "      <td>19.0</td>\n",
       "      <td>Mexico</td>\n",
       "      <td>Apr 28, 2008</td>\n",
       "    </tr>\n",
       "    <tr>\n",
       "      <th>4</th>\n",
       "      <td>00007a47085b9aab8af55f52ec8846ac479ac4fe</td>\n",
       "      <td>m</td>\n",
       "      <td>28.0</td>\n",
       "      <td>United States</td>\n",
       "      <td>Jan 27, 2006</td>\n",
       "    </tr>\n",
       "    <tr>\n",
       "      <th>...</th>\n",
       "      <td>...</td>\n",
       "      <td>...</td>\n",
       "      <td>...</td>\n",
       "      <td>...</td>\n",
       "      <td>...</td>\n",
       "    </tr>\n",
       "    <tr>\n",
       "      <th>359342</th>\n",
       "      <td>fffe7823f67b433b45f22056467db921c1d3d7d0</td>\n",
       "      <td>m</td>\n",
       "      <td>25.0</td>\n",
       "      <td>Germany</td>\n",
       "      <td>Jun 24, 2006</td>\n",
       "    </tr>\n",
       "    <tr>\n",
       "      <th>359343</th>\n",
       "      <td>fffe8637bd8234309e871409c7ebef99a720afc1</td>\n",
       "      <td>m</td>\n",
       "      <td>25.0</td>\n",
       "      <td>Brazil</td>\n",
       "      <td>Sep 9, 2007</td>\n",
       "    </tr>\n",
       "    <tr>\n",
       "      <th>359344</th>\n",
       "      <td>fffe8c7f952d9b960a56ed4dcb40a415d924b224</td>\n",
       "      <td>m</td>\n",
       "      <td>20.0</td>\n",
       "      <td>United States</td>\n",
       "      <td>Aug 8, 2007</td>\n",
       "    </tr>\n",
       "    <tr>\n",
       "      <th>359345</th>\n",
       "      <td>ffff9af9ae04d263dae91cb838b1f3a6725f5ffb</td>\n",
       "      <td>m</td>\n",
       "      <td>20.0</td>\n",
       "      <td>Russian Federation</td>\n",
       "      <td>Dec 3, 2005</td>\n",
       "    </tr>\n",
       "    <tr>\n",
       "      <th>359346</th>\n",
       "      <td>ffff9ef87a7d9494ada2f9ade4b9ff637c0759ac</td>\n",
       "      <td>m</td>\n",
       "      <td>21.0</td>\n",
       "      <td>Belgium</td>\n",
       "      <td>Nov 25, 2008</td>\n",
       "    </tr>\n",
       "  </tbody>\n",
       "</table>\n",
       "<p>359347 rows × 5 columns</p>\n",
       "</div>"
      ],
      "text/plain": [
       "                                            user gender   age  \\\n",
       "0       00000c289a1829a808ac09c00daf10bc3c4e223b      f  22.0   \n",
       "1       00001411dc427966b17297bf4d69e7e193135d89      f   NaN   \n",
       "2       00004d2ac9316e22dc007ab2243d6fcb239e707d    NaN   NaN   \n",
       "3       000063d3fe1cf2ba248b9e3c3f0334845a27a6bf      m  19.0   \n",
       "4       00007a47085b9aab8af55f52ec8846ac479ac4fe      m  28.0   \n",
       "...                                          ...    ...   ...   \n",
       "359342  fffe7823f67b433b45f22056467db921c1d3d7d0      m  25.0   \n",
       "359343  fffe8637bd8234309e871409c7ebef99a720afc1      m  25.0   \n",
       "359344  fffe8c7f952d9b960a56ed4dcb40a415d924b224      m  20.0   \n",
       "359345  ffff9af9ae04d263dae91cb838b1f3a6725f5ffb      m  20.0   \n",
       "359346  ffff9ef87a7d9494ada2f9ade4b9ff637c0759ac      m  21.0   \n",
       "\n",
       "                   country        signup  \n",
       "0                  Germany   Feb 1, 2007  \n",
       "1                   Canada   Dec 4, 2007  \n",
       "2                  Germany   Sep 1, 2006  \n",
       "3                   Mexico  Apr 28, 2008  \n",
       "4            United States  Jan 27, 2006  \n",
       "...                    ...           ...  \n",
       "359342             Germany  Jun 24, 2006  \n",
       "359343              Brazil   Sep 9, 2007  \n",
       "359344       United States   Aug 8, 2007  \n",
       "359345  Russian Federation   Dec 3, 2005  \n",
       "359346             Belgium  Nov 25, 2008  \n",
       "\n",
       "[359347 rows x 5 columns]"
      ]
     },
     "execution_count": 5,
     "metadata": {},
     "output_type": "execute_result"
    }
   ],
   "source": [
    "user_profile"
   ]
  },
  {
   "cell_type": "code",
   "execution_count": 6,
   "metadata": {},
   "outputs": [],
   "source": [
    "# filtering for users only in India or US\n",
    "user_ind_us = user_profile[user_profile['country'].isin(['United States','India'])]"
   ]
  },
  {
   "cell_type": "code",
   "execution_count": 7,
   "metadata": {},
   "outputs": [],
   "source": [
    "full_data = pd.merge(df1, user_ind_us, how='inner',on = 'user')"
   ]
  },
  {
   "cell_type": "code",
   "execution_count": 8,
   "metadata": {},
   "outputs": [],
   "source": [
    "# removing unknown artists\n",
    "unknown_artist = ['unknown','[unknown]']"
   ]
  },
  {
   "cell_type": "code",
   "execution_count": 9,
   "metadata": {},
   "outputs": [],
   "source": [
    "full_data = full_data[~full_data['artist'].isin(unknown_artist)]"
   ]
  },
  {
   "cell_type": "code",
   "execution_count": 10,
   "metadata": {},
   "outputs": [
    {
     "data": {
      "text/html": [
       "<div>\n",
       "<style scoped>\n",
       "    .dataframe tbody tr th:only-of-type {\n",
       "        vertical-align: middle;\n",
       "    }\n",
       "\n",
       "    .dataframe tbody tr th {\n",
       "        vertical-align: top;\n",
       "    }\n",
       "\n",
       "    .dataframe thead th {\n",
       "        text-align: right;\n",
       "    }\n",
       "</style>\n",
       "<table border=\"1\" class=\"dataframe\">\n",
       "  <thead>\n",
       "    <tr style=\"text-align: right;\">\n",
       "      <th></th>\n",
       "      <th>user</th>\n",
       "      <th>artist_id</th>\n",
       "      <th>artist</th>\n",
       "      <th>plays</th>\n",
       "      <th>gender</th>\n",
       "      <th>age</th>\n",
       "      <th>country</th>\n",
       "      <th>signup</th>\n",
       "    </tr>\n",
       "  </thead>\n",
       "  <tbody>\n",
       "    <tr>\n",
       "      <th>0</th>\n",
       "      <td>00007a47085b9aab8af55f52ec8846ac479ac4fe</td>\n",
       "      <td>0110e63e-0a9b-4818-af8e-41e180c20b9a</td>\n",
       "      <td>devendra banhart</td>\n",
       "      <td>456</td>\n",
       "      <td>m</td>\n",
       "      <td>28.0</td>\n",
       "      <td>United States</td>\n",
       "      <td>Jan 27, 2006</td>\n",
       "    </tr>\n",
       "    <tr>\n",
       "      <th>1</th>\n",
       "      <td>00007a47085b9aab8af55f52ec8846ac479ac4fe</td>\n",
       "      <td>69158f97-4c07-4c4e-baf8-4e4ab1ed666e</td>\n",
       "      <td>boards of canada</td>\n",
       "      <td>407</td>\n",
       "      <td>m</td>\n",
       "      <td>28.0</td>\n",
       "      <td>United States</td>\n",
       "      <td>Jan 27, 2006</td>\n",
       "    </tr>\n",
       "    <tr>\n",
       "      <th>2</th>\n",
       "      <td>00007a47085b9aab8af55f52ec8846ac479ac4fe</td>\n",
       "      <td>e162b2eb-6a42-4240-8c1b-c94d9a0acb73</td>\n",
       "      <td>cocorosie</td>\n",
       "      <td>386</td>\n",
       "      <td>m</td>\n",
       "      <td>28.0</td>\n",
       "      <td>United States</td>\n",
       "      <td>Jan 27, 2006</td>\n",
       "    </tr>\n",
       "    <tr>\n",
       "      <th>3</th>\n",
       "      <td>00007a47085b9aab8af55f52ec8846ac479ac4fe</td>\n",
       "      <td>f22942a1-6f70-4f48-866e-238cb2308fbd</td>\n",
       "      <td>aphex twin</td>\n",
       "      <td>213</td>\n",
       "      <td>m</td>\n",
       "      <td>28.0</td>\n",
       "      <td>United States</td>\n",
       "      <td>Jan 27, 2006</td>\n",
       "    </tr>\n",
       "    <tr>\n",
       "      <th>4</th>\n",
       "      <td>00007a47085b9aab8af55f52ec8846ac479ac4fe</td>\n",
       "      <td>0c751690-c784-4a4f-b1e4-c1de27d47581</td>\n",
       "      <td>animal collective</td>\n",
       "      <td>203</td>\n",
       "      <td>m</td>\n",
       "      <td>28.0</td>\n",
       "      <td>United States</td>\n",
       "      <td>Jan 27, 2006</td>\n",
       "    </tr>\n",
       "  </tbody>\n",
       "</table>\n",
       "</div>"
      ],
      "text/plain": [
       "                                       user  \\\n",
       "0  00007a47085b9aab8af55f52ec8846ac479ac4fe   \n",
       "1  00007a47085b9aab8af55f52ec8846ac479ac4fe   \n",
       "2  00007a47085b9aab8af55f52ec8846ac479ac4fe   \n",
       "3  00007a47085b9aab8af55f52ec8846ac479ac4fe   \n",
       "4  00007a47085b9aab8af55f52ec8846ac479ac4fe   \n",
       "\n",
       "                              artist_id             artist  plays gender  \\\n",
       "0  0110e63e-0a9b-4818-af8e-41e180c20b9a   devendra banhart    456      m   \n",
       "1  69158f97-4c07-4c4e-baf8-4e4ab1ed666e   boards of canada    407      m   \n",
       "2  e162b2eb-6a42-4240-8c1b-c94d9a0acb73          cocorosie    386      m   \n",
       "3  f22942a1-6f70-4f48-866e-238cb2308fbd         aphex twin    213      m   \n",
       "4  0c751690-c784-4a4f-b1e4-c1de27d47581  animal collective    203      m   \n",
       "\n",
       "    age        country        signup  \n",
       "0  28.0  United States  Jan 27, 2006  \n",
       "1  28.0  United States  Jan 27, 2006  \n",
       "2  28.0  United States  Jan 27, 2006  \n",
       "3  28.0  United States  Jan 27, 2006  \n",
       "4  28.0  United States  Jan 27, 2006  "
      ]
     },
     "execution_count": 10,
     "metadata": {},
     "output_type": "execute_result"
    }
   ],
   "source": [
    "full_data.head()"
   ]
  },
  {
   "cell_type": "code",
   "execution_count": 11,
   "metadata": {},
   "outputs": [],
   "source": [
    "edit_df = full_data[['user','artist','plays']]"
   ]
  },
  {
   "cell_type": "code",
   "execution_count": 12,
   "metadata": {},
   "outputs": [],
   "source": [
    "# removing na\n",
    "edit_df.dropna(inplace=True)"
   ]
  },
  {
   "cell_type": "code",
   "execution_count": 13,
   "metadata": {},
   "outputs": [],
   "source": [
    "edit_df['artist'] = edit_df['artist'].str.lower()"
   ]
  },
  {
   "cell_type": "code",
   "execution_count": 14,
   "metadata": {},
   "outputs": [
    {
     "data": {
      "text/plain": [
       "115409"
      ]
     },
     "execution_count": 14,
     "metadata": {},
     "output_type": "execute_result"
    }
   ],
   "source": [
    "# number of unique artists\n",
    "edit_df.artist.nunique()"
   ]
  },
  {
   "cell_type": "code",
   "execution_count": 15,
   "metadata": {},
   "outputs": [],
   "source": [
    "# reading Pranay's lastfm data\n",
    "pranay = pd.read_csv('Pranay_Singla.csv', names=['artist','album','track','time'])"
   ]
  },
  {
   "cell_type": "code",
   "execution_count": 16,
   "metadata": {},
   "outputs": [],
   "source": [
    "pranay = pranay[['artist','track']]"
   ]
  },
  {
   "cell_type": "code",
   "execution_count": 17,
   "metadata": {},
   "outputs": [],
   "source": [
    "pranay_df = pranay.groupby(['artist','track'], as_index=False).size()"
   ]
  },
  {
   "cell_type": "code",
   "execution_count": 18,
   "metadata": {},
   "outputs": [],
   "source": [
    "pranay_df['artist'] = pranay_df['artist'].str.lower()"
   ]
  },
  {
   "cell_type": "code",
   "execution_count": 19,
   "metadata": {},
   "outputs": [],
   "source": [
    "my_artists = list(set(list(pranay_df['artist'])))"
   ]
  },
  {
   "cell_type": "code",
   "execution_count": 20,
   "metadata": {},
   "outputs": [
    {
     "data": {
      "text/plain": [
       "191"
      ]
     },
     "execution_count": 20,
     "metadata": {},
     "output_type": "execute_result"
    }
   ],
   "source": [
    "# number of artists in Pranay's data\n",
    "len(my_artists)"
   ]
  },
  {
   "cell_type": "code",
   "execution_count": 21,
   "metadata": {},
   "outputs": [],
   "source": [
    "all_artists = list(set(list(edit_df['artist'])))"
   ]
  },
  {
   "cell_type": "code",
   "execution_count": 23,
   "metadata": {},
   "outputs": [],
   "source": [
    "remove_artist = []\n",
    "for abc in my_artists:\n",
    "    if abc not in all_artists:\n",
    "        remove_artist.append(abc)"
   ]
  },
  {
   "cell_type": "code",
   "execution_count": 24,
   "metadata": {},
   "outputs": [],
   "source": [
    "my_artist_new = [l for l in my_artists if l not in remove_artist]"
   ]
  },
  {
   "cell_type": "code",
   "execution_count": 25,
   "metadata": {},
   "outputs": [],
   "source": [
    "# selecting only top 1000 artists for further analysis\n",
    "top_1000 = edit_df.groupby('artist', as_index=False)['plays'].sum()"
   ]
  },
  {
   "cell_type": "code",
   "execution_count": 26,
   "metadata": {},
   "outputs": [],
   "source": [
    "top_1000 = top_1000.sort_values('plays', ascending=False)"
   ]
  },
  {
   "cell_type": "code",
   "execution_count": 27,
   "metadata": {},
   "outputs": [],
   "source": [
    "top_1000 = top_1000.iloc[:1000,:].reset_index(drop = True)"
   ]
  },
  {
   "cell_type": "code",
   "execution_count": 28,
   "metadata": {},
   "outputs": [],
   "source": [
    "top_1000_artists = list(top_1000['artist'])"
   ]
  },
  {
   "cell_type": "code",
   "execution_count": 29,
   "metadata": {},
   "outputs": [],
   "source": [
    "top_500_artists = top_1000_artists[:500]"
   ]
  },
  {
   "cell_type": "code",
   "execution_count": 30,
   "metadata": {},
   "outputs": [],
   "source": [
    "# final list of artists\n",
    "final_artists = list(set(top_500_artists + my_artist_new))"
   ]
  },
  {
   "cell_type": "code",
   "execution_count": 31,
   "metadata": {},
   "outputs": [],
   "source": [
    "pranay_final = pranay_df[pranay_df['artist'].isin(final_artists)]"
   ]
  },
  {
   "cell_type": "code",
   "execution_count": 32,
   "metadata": {},
   "outputs": [],
   "source": [
    "pranay_final = pranay_final.groupby('artist',as_index=False).sum('size')"
   ]
  },
  {
   "cell_type": "code",
   "execution_count": 33,
   "metadata": {},
   "outputs": [],
   "source": [
    "pranay_final['user'] = 'Pranay_Singla'"
   ]
  },
  {
   "cell_type": "code",
   "execution_count": 34,
   "metadata": {},
   "outputs": [],
   "source": [
    "pranay_final = pranay_final[['user','artist','size']]"
   ]
  },
  {
   "cell_type": "code",
   "execution_count": 35,
   "metadata": {},
   "outputs": [],
   "source": [
    "pranay_final.columns = ['user','artist','plays']"
   ]
  },
  {
   "cell_type": "code",
   "execution_count": 36,
   "metadata": {},
   "outputs": [
    {
     "data": {
      "text/html": [
       "<div>\n",
       "<style scoped>\n",
       "    .dataframe tbody tr th:only-of-type {\n",
       "        vertical-align: middle;\n",
       "    }\n",
       "\n",
       "    .dataframe tbody tr th {\n",
       "        vertical-align: top;\n",
       "    }\n",
       "\n",
       "    .dataframe thead th {\n",
       "        text-align: right;\n",
       "    }\n",
       "</style>\n",
       "<table border=\"1\" class=\"dataframe\">\n",
       "  <thead>\n",
       "    <tr style=\"text-align: right;\">\n",
       "      <th></th>\n",
       "      <th>user</th>\n",
       "      <th>artist</th>\n",
       "      <th>plays</th>\n",
       "    </tr>\n",
       "  </thead>\n",
       "  <tbody>\n",
       "    <tr>\n",
       "      <th>0</th>\n",
       "      <td>Pranay_Singla</td>\n",
       "      <td>*nsync</td>\n",
       "      <td>2</td>\n",
       "    </tr>\n",
       "    <tr>\n",
       "      <th>1</th>\n",
       "      <td>Pranay_Singla</td>\n",
       "      <td>a.r. rahman</td>\n",
       "      <td>1</td>\n",
       "    </tr>\n",
       "    <tr>\n",
       "      <th>2</th>\n",
       "      <td>Pranay_Singla</td>\n",
       "      <td>abba</td>\n",
       "      <td>2</td>\n",
       "    </tr>\n",
       "    <tr>\n",
       "      <th>3</th>\n",
       "      <td>Pranay_Singla</td>\n",
       "      <td>adele</td>\n",
       "      <td>2</td>\n",
       "    </tr>\n",
       "    <tr>\n",
       "      <th>4</th>\n",
       "      <td>Pranay_Singla</td>\n",
       "      <td>aerosmith</td>\n",
       "      <td>2</td>\n",
       "    </tr>\n",
       "    <tr>\n",
       "      <th>...</th>\n",
       "      <td>...</td>\n",
       "      <td>...</td>\n",
       "      <td>...</td>\n",
       "    </tr>\n",
       "    <tr>\n",
       "      <th>87</th>\n",
       "      <td>Pranay_Singla</td>\n",
       "      <td>the white stripes</td>\n",
       "      <td>3</td>\n",
       "    </tr>\n",
       "    <tr>\n",
       "      <th>88</th>\n",
       "      <td>Pranay_Singla</td>\n",
       "      <td>the who</td>\n",
       "      <td>9</td>\n",
       "    </tr>\n",
       "    <tr>\n",
       "      <th>89</th>\n",
       "      <td>Pranay_Singla</td>\n",
       "      <td>tom petty and the heartbreakers</td>\n",
       "      <td>2</td>\n",
       "    </tr>\n",
       "    <tr>\n",
       "      <th>90</th>\n",
       "      <td>Pranay_Singla</td>\n",
       "      <td>vengaboys</td>\n",
       "      <td>2</td>\n",
       "    </tr>\n",
       "    <tr>\n",
       "      <th>91</th>\n",
       "      <td>Pranay_Singla</td>\n",
       "      <td>zz top</td>\n",
       "      <td>1</td>\n",
       "    </tr>\n",
       "  </tbody>\n",
       "</table>\n",
       "<p>92 rows × 3 columns</p>\n",
       "</div>"
      ],
      "text/plain": [
       "             user                           artist  plays\n",
       "0   Pranay_Singla                           *nsync      2\n",
       "1   Pranay_Singla                      a.r. rahman      1\n",
       "2   Pranay_Singla                             abba      2\n",
       "3   Pranay_Singla                            adele      2\n",
       "4   Pranay_Singla                        aerosmith      2\n",
       "..            ...                              ...    ...\n",
       "87  Pranay_Singla                the white stripes      3\n",
       "88  Pranay_Singla                          the who      9\n",
       "89  Pranay_Singla  tom petty and the heartbreakers      2\n",
       "90  Pranay_Singla                        vengaboys      2\n",
       "91  Pranay_Singla                           zz top      1\n",
       "\n",
       "[92 rows x 3 columns]"
      ]
     },
     "execution_count": 36,
     "metadata": {},
     "output_type": "execute_result"
    }
   ],
   "source": [
    "pranay_final"
   ]
  },
  {
   "cell_type": "code",
   "execution_count": 38,
   "metadata": {},
   "outputs": [],
   "source": [
    "edit_2 = edit_df[edit_df['artist'].isin(final_artists)]"
   ]
  },
  {
   "cell_type": "code",
   "execution_count": 40,
   "metadata": {},
   "outputs": [],
   "source": [
    "# combining the 2 datasets\n",
    "combined_df = pd.concat([edit_2, pranay_final])"
   ]
  },
  {
   "cell_type": "code",
   "execution_count": 41,
   "metadata": {},
   "outputs": [],
   "source": [
    "combined_df = combined_df.reset_index(drop = True)"
   ]
  },
  {
   "cell_type": "code",
   "execution_count": 42,
   "metadata": {},
   "outputs": [
    {
     "data": {
      "text/html": [
       "<div>\n",
       "<style scoped>\n",
       "    .dataframe tbody tr th:only-of-type {\n",
       "        vertical-align: middle;\n",
       "    }\n",
       "\n",
       "    .dataframe tbody tr th {\n",
       "        vertical-align: top;\n",
       "    }\n",
       "\n",
       "    .dataframe thead th {\n",
       "        text-align: right;\n",
       "    }\n",
       "</style>\n",
       "<table border=\"1\" class=\"dataframe\">\n",
       "  <thead>\n",
       "    <tr style=\"text-align: right;\">\n",
       "      <th></th>\n",
       "      <th>user</th>\n",
       "      <th>artist</th>\n",
       "      <th>plays</th>\n",
       "    </tr>\n",
       "  </thead>\n",
       "  <tbody>\n",
       "    <tr>\n",
       "      <th>0</th>\n",
       "      <td>00007a47085b9aab8af55f52ec8846ac479ac4fe</td>\n",
       "      <td>devendra banhart</td>\n",
       "      <td>456</td>\n",
       "    </tr>\n",
       "    <tr>\n",
       "      <th>1</th>\n",
       "      <td>00007a47085b9aab8af55f52ec8846ac479ac4fe</td>\n",
       "      <td>boards of canada</td>\n",
       "      <td>407</td>\n",
       "    </tr>\n",
       "    <tr>\n",
       "      <th>2</th>\n",
       "      <td>00007a47085b9aab8af55f52ec8846ac479ac4fe</td>\n",
       "      <td>cocorosie</td>\n",
       "      <td>386</td>\n",
       "    </tr>\n",
       "    <tr>\n",
       "      <th>3</th>\n",
       "      <td>00007a47085b9aab8af55f52ec8846ac479ac4fe</td>\n",
       "      <td>aphex twin</td>\n",
       "      <td>213</td>\n",
       "    </tr>\n",
       "    <tr>\n",
       "      <th>4</th>\n",
       "      <td>00007a47085b9aab8af55f52ec8846ac479ac4fe</td>\n",
       "      <td>animal collective</td>\n",
       "      <td>203</td>\n",
       "    </tr>\n",
       "    <tr>\n",
       "      <th>...</th>\n",
       "      <td>...</td>\n",
       "      <td>...</td>\n",
       "      <td>...</td>\n",
       "    </tr>\n",
       "    <tr>\n",
       "      <th>1390415</th>\n",
       "      <td>Pranay_Singla</td>\n",
       "      <td>the white stripes</td>\n",
       "      <td>3</td>\n",
       "    </tr>\n",
       "    <tr>\n",
       "      <th>1390416</th>\n",
       "      <td>Pranay_Singla</td>\n",
       "      <td>the who</td>\n",
       "      <td>9</td>\n",
       "    </tr>\n",
       "    <tr>\n",
       "      <th>1390417</th>\n",
       "      <td>Pranay_Singla</td>\n",
       "      <td>tom petty and the heartbreakers</td>\n",
       "      <td>2</td>\n",
       "    </tr>\n",
       "    <tr>\n",
       "      <th>1390418</th>\n",
       "      <td>Pranay_Singla</td>\n",
       "      <td>vengaboys</td>\n",
       "      <td>2</td>\n",
       "    </tr>\n",
       "    <tr>\n",
       "      <th>1390419</th>\n",
       "      <td>Pranay_Singla</td>\n",
       "      <td>zz top</td>\n",
       "      <td>1</td>\n",
       "    </tr>\n",
       "  </tbody>\n",
       "</table>\n",
       "<p>1390420 rows × 3 columns</p>\n",
       "</div>"
      ],
      "text/plain": [
       "                                             user  \\\n",
       "0        00007a47085b9aab8af55f52ec8846ac479ac4fe   \n",
       "1        00007a47085b9aab8af55f52ec8846ac479ac4fe   \n",
       "2        00007a47085b9aab8af55f52ec8846ac479ac4fe   \n",
       "3        00007a47085b9aab8af55f52ec8846ac479ac4fe   \n",
       "4        00007a47085b9aab8af55f52ec8846ac479ac4fe   \n",
       "...                                           ...   \n",
       "1390415                             Pranay_Singla   \n",
       "1390416                             Pranay_Singla   \n",
       "1390417                             Pranay_Singla   \n",
       "1390418                             Pranay_Singla   \n",
       "1390419                             Pranay_Singla   \n",
       "\n",
       "                                  artist  plays  \n",
       "0                       devendra banhart    456  \n",
       "1                       boards of canada    407  \n",
       "2                              cocorosie    386  \n",
       "3                             aphex twin    213  \n",
       "4                      animal collective    203  \n",
       "...                                  ...    ...  \n",
       "1390415                the white stripes      3  \n",
       "1390416                          the who      9  \n",
       "1390417  tom petty and the heartbreakers      2  \n",
       "1390418                        vengaboys      2  \n",
       "1390419                           zz top      1  \n",
       "\n",
       "[1390420 rows x 3 columns]"
      ]
     },
     "execution_count": 42,
     "metadata": {},
     "output_type": "execute_result"
    }
   ],
   "source": [
    "combined_df"
   ]
  },
  {
   "cell_type": "code",
   "execution_count": 43,
   "metadata": {},
   "outputs": [],
   "source": [
    "# creating pivot table for analysis\n",
    "lastfm = combined_df.pivot_table('plays','user','artist')"
   ]
  },
  {
   "cell_type": "code",
   "execution_count": 44,
   "metadata": {},
   "outputs": [],
   "source": [
    "# replacing na's by 0\n",
    "lastfm.fillna(0, inplace=True)"
   ]
  },
  {
   "cell_type": "code",
   "execution_count": 45,
   "metadata": {},
   "outputs": [
    {
     "data": {
      "text/html": [
       "<div>\n",
       "<style scoped>\n",
       "    .dataframe tbody tr th:only-of-type {\n",
       "        vertical-align: middle;\n",
       "    }\n",
       "\n",
       "    .dataframe tbody tr th {\n",
       "        vertical-align: top;\n",
       "    }\n",
       "\n",
       "    .dataframe thead th {\n",
       "        text-align: right;\n",
       "    }\n",
       "</style>\n",
       "<table border=\"1\" class=\"dataframe\">\n",
       "  <thead>\n",
       "    <tr style=\"text-align: right;\">\n",
       "      <th>artist</th>\n",
       "      <th>*nsync</th>\n",
       "      <th>2pac</th>\n",
       "      <th>3 doors down</th>\n",
       "      <th>30 seconds to mars</th>\n",
       "      <th>311</th>\n",
       "      <th>50 cent</th>\n",
       "      <th>a day to remember</th>\n",
       "      <th>a perfect circle</th>\n",
       "      <th>a tribe called quest</th>\n",
       "      <th>a.r. rahman</th>\n",
       "      <th>...</th>\n",
       "      <th>why?</th>\n",
       "      <th>wilco</th>\n",
       "      <th>wu-tang clan</th>\n",
       "      <th>yann tiersen</th>\n",
       "      <th>yeah yeah yeahs</th>\n",
       "      <th>yo la tengo</th>\n",
       "      <th>zz top</th>\n",
       "      <th>植松伸夫</th>\n",
       "      <th>菅野よう子</th>\n",
       "      <th>동방신기</th>\n",
       "    </tr>\n",
       "    <tr>\n",
       "      <th>user</th>\n",
       "      <th></th>\n",
       "      <th></th>\n",
       "      <th></th>\n",
       "      <th></th>\n",
       "      <th></th>\n",
       "      <th></th>\n",
       "      <th></th>\n",
       "      <th></th>\n",
       "      <th></th>\n",
       "      <th></th>\n",
       "      <th></th>\n",
       "      <th></th>\n",
       "      <th></th>\n",
       "      <th></th>\n",
       "      <th></th>\n",
       "      <th></th>\n",
       "      <th></th>\n",
       "      <th></th>\n",
       "      <th></th>\n",
       "      <th></th>\n",
       "      <th></th>\n",
       "    </tr>\n",
       "  </thead>\n",
       "  <tbody>\n",
       "    <tr>\n",
       "      <th>00007a47085b9aab8af55f52ec8846ac479ac4fe</th>\n",
       "      <td>0.0</td>\n",
       "      <td>0.0</td>\n",
       "      <td>0.0</td>\n",
       "      <td>0.0</td>\n",
       "      <td>0.0</td>\n",
       "      <td>0.0</td>\n",
       "      <td>0.0</td>\n",
       "      <td>0.0</td>\n",
       "      <td>0.0</td>\n",
       "      <td>0.0</td>\n",
       "      <td>...</td>\n",
       "      <td>91.0</td>\n",
       "      <td>0.0</td>\n",
       "      <td>0.0</td>\n",
       "      <td>0.0</td>\n",
       "      <td>0.0</td>\n",
       "      <td>0.0</td>\n",
       "      <td>0.0</td>\n",
       "      <td>0.0</td>\n",
       "      <td>0.0</td>\n",
       "      <td>0.0</td>\n",
       "    </tr>\n",
       "    <tr>\n",
       "      <th>0001a57568309b287363e72dc682e9a170ba6dc2</th>\n",
       "      <td>0.0</td>\n",
       "      <td>0.0</td>\n",
       "      <td>0.0</td>\n",
       "      <td>0.0</td>\n",
       "      <td>0.0</td>\n",
       "      <td>0.0</td>\n",
       "      <td>0.0</td>\n",
       "      <td>0.0</td>\n",
       "      <td>0.0</td>\n",
       "      <td>0.0</td>\n",
       "      <td>...</td>\n",
       "      <td>0.0</td>\n",
       "      <td>0.0</td>\n",
       "      <td>0.0</td>\n",
       "      <td>0.0</td>\n",
       "      <td>0.0</td>\n",
       "      <td>0.0</td>\n",
       "      <td>0.0</td>\n",
       "      <td>0.0</td>\n",
       "      <td>0.0</td>\n",
       "      <td>0.0</td>\n",
       "    </tr>\n",
       "    <tr>\n",
       "      <th>00024b5b85c40f990c28644d53257819980bf6bb</th>\n",
       "      <td>0.0</td>\n",
       "      <td>0.0</td>\n",
       "      <td>0.0</td>\n",
       "      <td>0.0</td>\n",
       "      <td>0.0</td>\n",
       "      <td>0.0</td>\n",
       "      <td>0.0</td>\n",
       "      <td>0.0</td>\n",
       "      <td>0.0</td>\n",
       "      <td>0.0</td>\n",
       "      <td>...</td>\n",
       "      <td>0.0</td>\n",
       "      <td>0.0</td>\n",
       "      <td>0.0</td>\n",
       "      <td>0.0</td>\n",
       "      <td>0.0</td>\n",
       "      <td>0.0</td>\n",
       "      <td>0.0</td>\n",
       "      <td>0.0</td>\n",
       "      <td>0.0</td>\n",
       "      <td>0.0</td>\n",
       "    </tr>\n",
       "    <tr>\n",
       "      <th>0002dd2154072434d26e5409faa591bfb260a01e</th>\n",
       "      <td>0.0</td>\n",
       "      <td>0.0</td>\n",
       "      <td>0.0</td>\n",
       "      <td>0.0</td>\n",
       "      <td>0.0</td>\n",
       "      <td>0.0</td>\n",
       "      <td>0.0</td>\n",
       "      <td>0.0</td>\n",
       "      <td>0.0</td>\n",
       "      <td>0.0</td>\n",
       "      <td>...</td>\n",
       "      <td>0.0</td>\n",
       "      <td>0.0</td>\n",
       "      <td>0.0</td>\n",
       "      <td>0.0</td>\n",
       "      <td>0.0</td>\n",
       "      <td>0.0</td>\n",
       "      <td>0.0</td>\n",
       "      <td>0.0</td>\n",
       "      <td>0.0</td>\n",
       "      <td>0.0</td>\n",
       "    </tr>\n",
       "    <tr>\n",
       "      <th>00032c7933e0eb05f2258f1147ef81a90f2d4d6c</th>\n",
       "      <td>0.0</td>\n",
       "      <td>0.0</td>\n",
       "      <td>0.0</td>\n",
       "      <td>0.0</td>\n",
       "      <td>0.0</td>\n",
       "      <td>0.0</td>\n",
       "      <td>0.0</td>\n",
       "      <td>0.0</td>\n",
       "      <td>0.0</td>\n",
       "      <td>0.0</td>\n",
       "      <td>...</td>\n",
       "      <td>0.0</td>\n",
       "      <td>0.0</td>\n",
       "      <td>0.0</td>\n",
       "      <td>0.0</td>\n",
       "      <td>0.0</td>\n",
       "      <td>0.0</td>\n",
       "      <td>0.0</td>\n",
       "      <td>0.0</td>\n",
       "      <td>0.0</td>\n",
       "      <td>0.0</td>\n",
       "    </tr>\n",
       "    <tr>\n",
       "      <th>...</th>\n",
       "      <td>...</td>\n",
       "      <td>...</td>\n",
       "      <td>...</td>\n",
       "      <td>...</td>\n",
       "      <td>...</td>\n",
       "      <td>...</td>\n",
       "      <td>...</td>\n",
       "      <td>...</td>\n",
       "      <td>...</td>\n",
       "      <td>...</td>\n",
       "      <td>...</td>\n",
       "      <td>...</td>\n",
       "      <td>...</td>\n",
       "      <td>...</td>\n",
       "      <td>...</td>\n",
       "      <td>...</td>\n",
       "      <td>...</td>\n",
       "      <td>...</td>\n",
       "      <td>...</td>\n",
       "      <td>...</td>\n",
       "      <td>...</td>\n",
       "    </tr>\n",
       "    <tr>\n",
       "      <th>fff9dc65e7f2763a7e8bce8d99cc1491c2ae4c6f</th>\n",
       "      <td>0.0</td>\n",
       "      <td>0.0</td>\n",
       "      <td>0.0</td>\n",
       "      <td>0.0</td>\n",
       "      <td>0.0</td>\n",
       "      <td>0.0</td>\n",
       "      <td>0.0</td>\n",
       "      <td>0.0</td>\n",
       "      <td>0.0</td>\n",
       "      <td>0.0</td>\n",
       "      <td>...</td>\n",
       "      <td>0.0</td>\n",
       "      <td>0.0</td>\n",
       "      <td>0.0</td>\n",
       "      <td>0.0</td>\n",
       "      <td>0.0</td>\n",
       "      <td>0.0</td>\n",
       "      <td>0.0</td>\n",
       "      <td>0.0</td>\n",
       "      <td>0.0</td>\n",
       "      <td>0.0</td>\n",
       "    </tr>\n",
       "    <tr>\n",
       "      <th>fffa9294e858a7c863b5ad363c748c2330d9bd45</th>\n",
       "      <td>0.0</td>\n",
       "      <td>0.0</td>\n",
       "      <td>0.0</td>\n",
       "      <td>0.0</td>\n",
       "      <td>1228.0</td>\n",
       "      <td>0.0</td>\n",
       "      <td>0.0</td>\n",
       "      <td>0.0</td>\n",
       "      <td>0.0</td>\n",
       "      <td>0.0</td>\n",
       "      <td>...</td>\n",
       "      <td>0.0</td>\n",
       "      <td>0.0</td>\n",
       "      <td>0.0</td>\n",
       "      <td>0.0</td>\n",
       "      <td>0.0</td>\n",
       "      <td>0.0</td>\n",
       "      <td>0.0</td>\n",
       "      <td>0.0</td>\n",
       "      <td>0.0</td>\n",
       "      <td>0.0</td>\n",
       "    </tr>\n",
       "    <tr>\n",
       "      <th>fffa9d62caff0f038c7a35db70f109b1bba04a1d</th>\n",
       "      <td>0.0</td>\n",
       "      <td>0.0</td>\n",
       "      <td>0.0</td>\n",
       "      <td>0.0</td>\n",
       "      <td>0.0</td>\n",
       "      <td>0.0</td>\n",
       "      <td>0.0</td>\n",
       "      <td>0.0</td>\n",
       "      <td>0.0</td>\n",
       "      <td>0.0</td>\n",
       "      <td>...</td>\n",
       "      <td>322.0</td>\n",
       "      <td>0.0</td>\n",
       "      <td>0.0</td>\n",
       "      <td>0.0</td>\n",
       "      <td>0.0</td>\n",
       "      <td>230.0</td>\n",
       "      <td>0.0</td>\n",
       "      <td>0.0</td>\n",
       "      <td>0.0</td>\n",
       "      <td>0.0</td>\n",
       "    </tr>\n",
       "    <tr>\n",
       "      <th>fffaf6f9a1a3ad8bd0dff7b48b2eb9eef030fdee</th>\n",
       "      <td>0.0</td>\n",
       "      <td>0.0</td>\n",
       "      <td>0.0</td>\n",
       "      <td>0.0</td>\n",
       "      <td>0.0</td>\n",
       "      <td>0.0</td>\n",
       "      <td>0.0</td>\n",
       "      <td>354.0</td>\n",
       "      <td>0.0</td>\n",
       "      <td>0.0</td>\n",
       "      <td>...</td>\n",
       "      <td>0.0</td>\n",
       "      <td>0.0</td>\n",
       "      <td>0.0</td>\n",
       "      <td>0.0</td>\n",
       "      <td>0.0</td>\n",
       "      <td>0.0</td>\n",
       "      <td>0.0</td>\n",
       "      <td>0.0</td>\n",
       "      <td>0.0</td>\n",
       "      <td>0.0</td>\n",
       "    </tr>\n",
       "    <tr>\n",
       "      <th>fffe8c7f952d9b960a56ed4dcb40a415d924b224</th>\n",
       "      <td>0.0</td>\n",
       "      <td>0.0</td>\n",
       "      <td>0.0</td>\n",
       "      <td>0.0</td>\n",
       "      <td>0.0</td>\n",
       "      <td>0.0</td>\n",
       "      <td>0.0</td>\n",
       "      <td>0.0</td>\n",
       "      <td>0.0</td>\n",
       "      <td>0.0</td>\n",
       "      <td>...</td>\n",
       "      <td>0.0</td>\n",
       "      <td>0.0</td>\n",
       "      <td>0.0</td>\n",
       "      <td>0.0</td>\n",
       "      <td>0.0</td>\n",
       "      <td>0.0</td>\n",
       "      <td>0.0</td>\n",
       "      <td>0.0</td>\n",
       "      <td>0.0</td>\n",
       "      <td>0.0</td>\n",
       "    </tr>\n",
       "  </tbody>\n",
       "</table>\n",
       "<p>67139 rows × 555 columns</p>\n",
       "</div>"
      ],
      "text/plain": [
       "artist                                    *nsync  2pac  3 doors down  \\\n",
       "user                                                                   \n",
       "00007a47085b9aab8af55f52ec8846ac479ac4fe     0.0   0.0           0.0   \n",
       "0001a57568309b287363e72dc682e9a170ba6dc2     0.0   0.0           0.0   \n",
       "00024b5b85c40f990c28644d53257819980bf6bb     0.0   0.0           0.0   \n",
       "0002dd2154072434d26e5409faa591bfb260a01e     0.0   0.0           0.0   \n",
       "00032c7933e0eb05f2258f1147ef81a90f2d4d6c     0.0   0.0           0.0   \n",
       "...                                          ...   ...           ...   \n",
       "fff9dc65e7f2763a7e8bce8d99cc1491c2ae4c6f     0.0   0.0           0.0   \n",
       "fffa9294e858a7c863b5ad363c748c2330d9bd45     0.0   0.0           0.0   \n",
       "fffa9d62caff0f038c7a35db70f109b1bba04a1d     0.0   0.0           0.0   \n",
       "fffaf6f9a1a3ad8bd0dff7b48b2eb9eef030fdee     0.0   0.0           0.0   \n",
       "fffe8c7f952d9b960a56ed4dcb40a415d924b224     0.0   0.0           0.0   \n",
       "\n",
       "artist                                    30 seconds to mars     311  50 cent  \\\n",
       "user                                                                            \n",
       "00007a47085b9aab8af55f52ec8846ac479ac4fe                 0.0     0.0      0.0   \n",
       "0001a57568309b287363e72dc682e9a170ba6dc2                 0.0     0.0      0.0   \n",
       "00024b5b85c40f990c28644d53257819980bf6bb                 0.0     0.0      0.0   \n",
       "0002dd2154072434d26e5409faa591bfb260a01e                 0.0     0.0      0.0   \n",
       "00032c7933e0eb05f2258f1147ef81a90f2d4d6c                 0.0     0.0      0.0   \n",
       "...                                                      ...     ...      ...   \n",
       "fff9dc65e7f2763a7e8bce8d99cc1491c2ae4c6f                 0.0     0.0      0.0   \n",
       "fffa9294e858a7c863b5ad363c748c2330d9bd45                 0.0  1228.0      0.0   \n",
       "fffa9d62caff0f038c7a35db70f109b1bba04a1d                 0.0     0.0      0.0   \n",
       "fffaf6f9a1a3ad8bd0dff7b48b2eb9eef030fdee                 0.0     0.0      0.0   \n",
       "fffe8c7f952d9b960a56ed4dcb40a415d924b224                 0.0     0.0      0.0   \n",
       "\n",
       "artist                                    a day to remember  a perfect circle  \\\n",
       "user                                                                            \n",
       "00007a47085b9aab8af55f52ec8846ac479ac4fe                0.0               0.0   \n",
       "0001a57568309b287363e72dc682e9a170ba6dc2                0.0               0.0   \n",
       "00024b5b85c40f990c28644d53257819980bf6bb                0.0               0.0   \n",
       "0002dd2154072434d26e5409faa591bfb260a01e                0.0               0.0   \n",
       "00032c7933e0eb05f2258f1147ef81a90f2d4d6c                0.0               0.0   \n",
       "...                                                     ...               ...   \n",
       "fff9dc65e7f2763a7e8bce8d99cc1491c2ae4c6f                0.0               0.0   \n",
       "fffa9294e858a7c863b5ad363c748c2330d9bd45                0.0               0.0   \n",
       "fffa9d62caff0f038c7a35db70f109b1bba04a1d                0.0               0.0   \n",
       "fffaf6f9a1a3ad8bd0dff7b48b2eb9eef030fdee                0.0             354.0   \n",
       "fffe8c7f952d9b960a56ed4dcb40a415d924b224                0.0               0.0   \n",
       "\n",
       "artist                                    a tribe called quest  a.r. rahman  \\\n",
       "user                                                                          \n",
       "00007a47085b9aab8af55f52ec8846ac479ac4fe                   0.0          0.0   \n",
       "0001a57568309b287363e72dc682e9a170ba6dc2                   0.0          0.0   \n",
       "00024b5b85c40f990c28644d53257819980bf6bb                   0.0          0.0   \n",
       "0002dd2154072434d26e5409faa591bfb260a01e                   0.0          0.0   \n",
       "00032c7933e0eb05f2258f1147ef81a90f2d4d6c                   0.0          0.0   \n",
       "...                                                        ...          ...   \n",
       "fff9dc65e7f2763a7e8bce8d99cc1491c2ae4c6f                   0.0          0.0   \n",
       "fffa9294e858a7c863b5ad363c748c2330d9bd45                   0.0          0.0   \n",
       "fffa9d62caff0f038c7a35db70f109b1bba04a1d                   0.0          0.0   \n",
       "fffaf6f9a1a3ad8bd0dff7b48b2eb9eef030fdee                   0.0          0.0   \n",
       "fffe8c7f952d9b960a56ed4dcb40a415d924b224                   0.0          0.0   \n",
       "\n",
       "artist                                    ...   why?  wilco  wu-tang clan  \\\n",
       "user                                      ...                               \n",
       "00007a47085b9aab8af55f52ec8846ac479ac4fe  ...   91.0    0.0           0.0   \n",
       "0001a57568309b287363e72dc682e9a170ba6dc2  ...    0.0    0.0           0.0   \n",
       "00024b5b85c40f990c28644d53257819980bf6bb  ...    0.0    0.0           0.0   \n",
       "0002dd2154072434d26e5409faa591bfb260a01e  ...    0.0    0.0           0.0   \n",
       "00032c7933e0eb05f2258f1147ef81a90f2d4d6c  ...    0.0    0.0           0.0   \n",
       "...                                       ...    ...    ...           ...   \n",
       "fff9dc65e7f2763a7e8bce8d99cc1491c2ae4c6f  ...    0.0    0.0           0.0   \n",
       "fffa9294e858a7c863b5ad363c748c2330d9bd45  ...    0.0    0.0           0.0   \n",
       "fffa9d62caff0f038c7a35db70f109b1bba04a1d  ...  322.0    0.0           0.0   \n",
       "fffaf6f9a1a3ad8bd0dff7b48b2eb9eef030fdee  ...    0.0    0.0           0.0   \n",
       "fffe8c7f952d9b960a56ed4dcb40a415d924b224  ...    0.0    0.0           0.0   \n",
       "\n",
       "artist                                    yann tiersen  yeah yeah yeahs  \\\n",
       "user                                                                      \n",
       "00007a47085b9aab8af55f52ec8846ac479ac4fe           0.0              0.0   \n",
       "0001a57568309b287363e72dc682e9a170ba6dc2           0.0              0.0   \n",
       "00024b5b85c40f990c28644d53257819980bf6bb           0.0              0.0   \n",
       "0002dd2154072434d26e5409faa591bfb260a01e           0.0              0.0   \n",
       "00032c7933e0eb05f2258f1147ef81a90f2d4d6c           0.0              0.0   \n",
       "...                                                ...              ...   \n",
       "fff9dc65e7f2763a7e8bce8d99cc1491c2ae4c6f           0.0              0.0   \n",
       "fffa9294e858a7c863b5ad363c748c2330d9bd45           0.0              0.0   \n",
       "fffa9d62caff0f038c7a35db70f109b1bba04a1d           0.0              0.0   \n",
       "fffaf6f9a1a3ad8bd0dff7b48b2eb9eef030fdee           0.0              0.0   \n",
       "fffe8c7f952d9b960a56ed4dcb40a415d924b224           0.0              0.0   \n",
       "\n",
       "artist                                    yo la tengo  zz top  植松伸夫  菅野よう子  \\\n",
       "user                                                                         \n",
       "00007a47085b9aab8af55f52ec8846ac479ac4fe          0.0     0.0   0.0    0.0   \n",
       "0001a57568309b287363e72dc682e9a170ba6dc2          0.0     0.0   0.0    0.0   \n",
       "00024b5b85c40f990c28644d53257819980bf6bb          0.0     0.0   0.0    0.0   \n",
       "0002dd2154072434d26e5409faa591bfb260a01e          0.0     0.0   0.0    0.0   \n",
       "00032c7933e0eb05f2258f1147ef81a90f2d4d6c          0.0     0.0   0.0    0.0   \n",
       "...                                               ...     ...   ...    ...   \n",
       "fff9dc65e7f2763a7e8bce8d99cc1491c2ae4c6f          0.0     0.0   0.0    0.0   \n",
       "fffa9294e858a7c863b5ad363c748c2330d9bd45          0.0     0.0   0.0    0.0   \n",
       "fffa9d62caff0f038c7a35db70f109b1bba04a1d        230.0     0.0   0.0    0.0   \n",
       "fffaf6f9a1a3ad8bd0dff7b48b2eb9eef030fdee          0.0     0.0   0.0    0.0   \n",
       "fffe8c7f952d9b960a56ed4dcb40a415d924b224          0.0     0.0   0.0    0.0   \n",
       "\n",
       "artist                                    동방신기  \n",
       "user                                            \n",
       "00007a47085b9aab8af55f52ec8846ac479ac4fe   0.0  \n",
       "0001a57568309b287363e72dc682e9a170ba6dc2   0.0  \n",
       "00024b5b85c40f990c28644d53257819980bf6bb   0.0  \n",
       "0002dd2154072434d26e5409faa591bfb260a01e   0.0  \n",
       "00032c7933e0eb05f2258f1147ef81a90f2d4d6c   0.0  \n",
       "...                                        ...  \n",
       "fff9dc65e7f2763a7e8bce8d99cc1491c2ae4c6f   0.0  \n",
       "fffa9294e858a7c863b5ad363c748c2330d9bd45   0.0  \n",
       "fffa9d62caff0f038c7a35db70f109b1bba04a1d   0.0  \n",
       "fffaf6f9a1a3ad8bd0dff7b48b2eb9eef030fdee   0.0  \n",
       "fffe8c7f952d9b960a56ed4dcb40a415d924b224   0.0  \n",
       "\n",
       "[67139 rows x 555 columns]"
      ]
     },
     "execution_count": 45,
     "metadata": {},
     "output_type": "execute_result"
    }
   ],
   "source": [
    "lastfm"
   ]
  },
  {
   "cell_type": "code",
   "execution_count": 46,
   "metadata": {},
   "outputs": [],
   "source": [
    "# replacing values > 0 by 1 to signify replace number of plays by simple artist-user mapping\n",
    "lastfm_df = lastfm.apply(lambda x:[1 if y > 0 else y for y in x])"
   ]
  },
  {
   "cell_type": "code",
   "execution_count": 47,
   "metadata": {},
   "outputs": [],
   "source": [
    "lastfm_df['my_artists_sum'] = lastfm_df[my_artist_new].sum(axis = 1)"
   ]
  },
  {
   "cell_type": "code",
   "execution_count": 48,
   "metadata": {},
   "outputs": [],
   "source": [
    "# subset dataset for recommendation considering only those users who have atleast 4 common artist preferences\n",
    "lastfm_subset = lastfm_df[lastfm_df['my_artists_sum'] > 4]"
   ]
  },
  {
   "cell_type": "code",
   "execution_count": 49,
   "metadata": {},
   "outputs": [],
   "source": [
    "lastfm_subset.drop(['my_artists_sum'], inplace=True, axis = 1)"
   ]
  },
  {
   "cell_type": "code",
   "execution_count": 73,
   "metadata": {},
   "outputs": [],
   "source": [
    "lastfm_df.drop(['my_artists_sum'], inplace = True, axis = 1)"
   ]
  },
  {
   "cell_type": "code",
   "execution_count": 50,
   "metadata": {},
   "outputs": [],
   "source": [
    "lastfm_subset.to_csv('lastfm1.csv')"
   ]
  },
  {
   "cell_type": "code",
   "execution_count": 74,
   "metadata": {},
   "outputs": [],
   "source": [
    "lastfm_df.to_csv('lastfm.csv')"
   ]
  },
  {
   "cell_type": "markdown",
   "metadata": {},
   "source": [
    "## Collaborative Filtering"
   ]
  },
  {
   "cell_type": "code",
   "execution_count": 52,
   "metadata": {},
   "outputs": [],
   "source": [
    "# Reading Saved File\n",
    "lastfm_subset = pd.read_csv('lastfm1.csv')"
   ]
  },
  {
   "cell_type": "code",
   "execution_count": 54,
   "metadata": {},
   "outputs": [],
   "source": [
    "data_items = lastfm_subset.drop('user', 1)"
   ]
  },
  {
   "cell_type": "code",
   "execution_count": 55,
   "metadata": {},
   "outputs": [],
   "source": [
    "# calculating magnitude and dividing by the data to make sure each user has equal contribution\n",
    "magnitude = np.sqrt(np.square(data_items).sum(axis=1))"
   ]
  },
  {
   "cell_type": "code",
   "execution_count": 56,
   "metadata": {},
   "outputs": [],
   "source": [
    "data_items = data_items.divide(magnitude, axis='index')"
   ]
  },
  {
   "cell_type": "code",
   "execution_count": 57,
   "metadata": {},
   "outputs": [],
   "source": [
    "# calculating similarity (cosine) for collaborative filtering\n",
    "def calculate_similarity(data_items):\n",
    "    data_sparse = sparse.csr_matrix(data_items)\n",
    "    similarities = cosine_similarity(data_sparse.transpose())\n",
    "    sim = pd.DataFrame(data=similarities, index= data_items.columns, columns= data_items.columns)\n",
    "    return sim"
   ]
  },
  {
   "cell_type": "code",
   "execution_count": 58,
   "metadata": {},
   "outputs": [],
   "source": [
    "# Build the similarity matrix\n",
    "data_matrix = calculate_similarity(data_items)"
   ]
  },
  {
   "cell_type": "code",
   "execution_count": 59,
   "metadata": {},
   "outputs": [
    {
     "name": "stdout",
     "output_type": "stream",
     "text": [
      "queen                 1.000000\n",
      "the beatles           0.425528\n",
      "pink floyd            0.341404\n",
      "led zeppelin          0.335855\n",
      "the who               0.311618\n",
      "the rolling stones    0.298438\n",
      "david bowie           0.297885\n",
      "aerosmith             0.296539\n",
      "billy joel            0.294072\n",
      "ac/dc                 0.287834\n",
      "elton john            0.273003\n",
      "Name: queen, dtype: float64\n"
     ]
    }
   ],
   "source": [
    "# top 11 similar artists for queen\n",
    "print(data_matrix.loc['queen'].nlargest(11))"
   ]
  },
  {
   "cell_type": "code",
   "execution_count": 60,
   "metadata": {},
   "outputs": [
    {
     "name": "stdout",
     "output_type": "stream",
     "text": [
      "rihanna               1.000000\n",
      "beyoncé               0.477514\n",
      "britney spears        0.456275\n",
      "lady gaga             0.385008\n",
      "mariah carey          0.369828\n",
      "chris brown           0.364835\n",
      "justin timberlake     0.355938\n",
      "ne-yo                 0.341059\n",
      "kelly clarkson        0.336007\n",
      "christina aguilera    0.329707\n",
      "kanye west            0.312174\n",
      "Name: rihanna, dtype: float64\n"
     ]
    }
   ],
   "source": [
    "# top 11 similar artists for rihanna\n",
    "print(data_matrix.loc['rihanna'].nlargest(11))"
   ]
  },
  {
   "cell_type": "code",
   "execution_count": 61,
   "metadata": {},
   "outputs": [
    {
     "name": "stdout",
     "output_type": "stream",
     "text": [
      "eminem              1.000000\n",
      "50 cent             0.394701\n",
      "2pac                0.368348\n",
      "kanye west          0.363127\n",
      "jay-z               0.360949\n",
      "ludacris            0.354819\n",
      "nas                 0.333485\n",
      "t.i.                0.333454\n",
      "linkin park         0.330362\n",
      "the game            0.321912\n",
      "notorious b.i.g.    0.316832\n",
      "Name: eminem, dtype: float64\n"
     ]
    }
   ],
   "source": [
    "# top 11 similar artists for eminem\n",
    "print(data_matrix.loc['eminem'].nlargest(11))"
   ]
  },
  {
   "cell_type": "code",
   "execution_count": 62,
   "metadata": {},
   "outputs": [
    {
     "name": "stdout",
     "output_type": "stream",
     "text": [
      "deadmau5                 1.000000\n",
      "david guetta             0.170055\n",
      "justice                  0.164870\n",
      "daft punk                0.145766\n",
      "the chemical brothers    0.121593\n",
      "bastille                 0.119534\n",
      "the prodigy              0.116139\n",
      "röyksopp                 0.110895\n",
      "infected mushroom        0.108269\n",
      "dj antoine               0.102677\n",
      "calvin harris            0.099177\n",
      "Name: deadmau5, dtype: float64\n"
     ]
    }
   ],
   "source": [
    "# top 11 similar artists for deadmau5\n",
    "print(data_matrix.loc['deadmau5'].nlargest(11))"
   ]
  },
  {
   "cell_type": "code",
   "execution_count": 64,
   "metadata": {},
   "outputs": [
    {
     "name": "stdout",
     "output_type": "stream",
     "text": [
      "a.r. rahman         1.000000\n",
      "bryan adams         0.324203\n",
      "kk                  0.286371\n",
      "enrique iglesias    0.255081\n",
      "rashid ali          0.255039\n",
      "coldplay            0.170972\n",
      "linkin park         0.166314\n",
      "blue                0.163718\n",
      "backstreet boys     0.135465\n",
      "u2                  0.134447\n",
      "pink floyd          0.124986\n",
      "Name: a.r. rahman, dtype: float64\n"
     ]
    }
   ],
   "source": [
    "# top 11 similar artists for a.r. rahman\n",
    "print(data_matrix.loc['a.r. rahman'].nlargest(11))"
   ]
  },
  {
   "cell_type": "markdown",
   "metadata": {},
   "source": [
    "User Item Calculations"
   ]
  },
  {
   "cell_type": "code",
   "execution_count": 65,
   "metadata": {},
   "outputs": [],
   "source": [
    "# Constructing a new dataframe with the 10 closest neighbours (most similar) for each artist.\n",
    "data_neighbours = pd.DataFrame(index=data_matrix.columns, columns=range(1,11))\n",
    "for i in range(0, len(data_matrix.columns)):\n",
    "    data_neighbours.iloc[i,:10] = data_matrix.iloc[0:,i].sort_values(ascending=False)[:10].index"
   ]
  },
  {
   "cell_type": "code",
   "execution_count": 66,
   "metadata": {},
   "outputs": [],
   "source": [
    "# Building artist recommendation for Pranay\n",
    "user = 'Pranay_Singla'\n",
    "user_index = lastfm_subset[lastfm_subset.user == user].index.tolist()[0]"
   ]
  },
  {
   "cell_type": "code",
   "execution_count": 67,
   "metadata": {},
   "outputs": [],
   "source": [
    "# Getting the artists the user has played.\n",
    "known_user_likes = data_items.iloc[user_index]\n",
    "known_user_likes = known_user_likes[known_user_likes >0].index.values"
   ]
  },
  {
   "cell_type": "code",
   "execution_count": 68,
   "metadata": {},
   "outputs": [],
   "source": [
    "# Constructing the neighbourhood from the most similar items to the ones our user has already liked.\n",
    "most_similar_to_likes = data_neighbours.loc[known_user_likes]\n",
    "similar_list = most_similar_to_likes.values.tolist()\n",
    "similar_list = list(set([item for sublist in similar_list for item in sublist]))\n",
    "neighbourhood = data_matrix[similar_list].loc[similar_list]"
   ]
  },
  {
   "cell_type": "code",
   "execution_count": 69,
   "metadata": {},
   "outputs": [],
   "source": [
    "# A user vector containing only the neighbourhood items and the known user likes.\n",
    "user_vector = data_items.iloc[user_index].loc[similar_list]"
   ]
  },
  {
   "cell_type": "code",
   "execution_count": 70,
   "metadata": {},
   "outputs": [],
   "source": [
    "# Calculating the score.\n",
    "score = neighbourhood.dot(user_vector).div(neighbourhood.sum(axis=1))\n",
    "# Dropping known likes.\n",
    "score = score.drop(known_user_likes)"
   ]
  },
  {
   "cell_type": "code",
   "execution_count": 79,
   "metadata": {},
   "outputs": [
    {
     "name": "stdout",
     "output_type": "stream",
     "text": [
      "Top recommendations for Pranay\n",
      "\n",
      "eric clapton                0.038022\n",
      "avril lavigne               0.037608\n",
      "enya                        0.037544\n",
      "michael jackson             0.037474\n",
      "kylie minogue               0.037427\n",
      "3 doors down                0.037276\n",
      "electric light orchestra    0.037193\n",
      "jethro tull                 0.037085\n",
      "madonna                     0.036843\n",
      "black eyed peas             0.036817\n",
      "van halen                   0.036734\n",
      "chris brown                 0.036730\n",
      "billy joel                  0.036697\n",
      "ac/dc                       0.036664\n",
      "ne-yo                       0.036634\n",
      "beyoncé                     0.036559\n",
      "elton john                  0.036256\n",
      "50 cent                     0.036205\n",
      "boa                         0.036194\n",
      "usher                       0.036137\n",
      "dtype: float64\n"
     ]
    }
   ],
   "source": [
    "print('Top recommendations for Pranay')\n",
    "print()\n",
    "print(score.nlargest(20))"
   ]
  },
  {
   "cell_type": "code",
   "execution_count": 77,
   "metadata": {},
   "outputs": [],
   "source": [
    "data_neighbours.to_csv('similar_artist.csv')"
   ]
  },
  {
   "cell_type": "code",
   "execution_count": null,
   "metadata": {},
   "outputs": [],
   "source": []
  }
 ],
 "metadata": {
  "kernelspec": {
   "display_name": "Python 3",
   "language": "python",
   "name": "python3"
  },
  "language_info": {
   "codemirror_mode": {
    "name": "ipython",
    "version": 3
   },
   "file_extension": ".py",
   "mimetype": "text/x-python",
   "name": "python",
   "nbconvert_exporter": "python",
   "pygments_lexer": "ipython3",
   "version": "3.7.9"
  }
 },
 "nbformat": 4,
 "nbformat_minor": 4
}
