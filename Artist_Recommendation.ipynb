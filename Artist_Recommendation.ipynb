{
 "cells": [
  {
   "cell_type": "markdown",
   "metadata": {},
   "source": [
    "## <center> Artist Recommendation using Collaborative Filtering\n",
    "By: Pranay Singla"
   ]
  },
  {
   "cell_type": "markdown",
   "metadata": {},
   "source": [
    "### Purpose\n",
    "\n",
    "The aim of this project is to give users new artist recommendations based on their listening preferences and  the preferences of similar LastFM users using collaborative filtering. "
   ]
  },
  {
   "cell_type": "code",
   "execution_count": 1,
   "metadata": {},
   "outputs": [],
   "source": [
    "# Loading libraries\n",
    "import pandas as pd\n",
    "import numpy as np\n",
    "import matplotlib\n",
    "import matplotlib.pyplot as plt\n",
    "%matplotlib inline\n",
    "\n",
    "from sklearn.metrics.pairwise import cosine_similarity\n",
    "from scipy import sparse\n",
    "pd.options.mode.chained_assignment = None"
   ]
  },
  {
   "cell_type": "markdown",
   "metadata": {},
   "source": [
    "#### Data Cleaning and Wrangling"
   ]
  },
  {
   "cell_type": "code",
   "execution_count": 2,
   "metadata": {},
   "outputs": [],
   "source": [
    "# reading lastfm data\n",
    "df1 = pd.read_csv('usersha1-artmbid-artname-plays.tsv', sep = '\\t', names = ['user','artist_id','artist','plays'])"
   ]
  },
  {
   "cell_type": "code",
   "execution_count": 3,
   "metadata": {},
   "outputs": [
    {
     "data": {
      "text/html": [
       "<div>\n",
       "<style scoped>\n",
       "    .dataframe tbody tr th:only-of-type {\n",
       "        vertical-align: middle;\n",
       "    }\n",
       "\n",
       "    .dataframe tbody tr th {\n",
       "        vertical-align: top;\n",
       "    }\n",
       "\n",
       "    .dataframe thead th {\n",
       "        text-align: right;\n",
       "    }\n",
       "</style>\n",
       "<table border=\"1\" class=\"dataframe\">\n",
       "  <thead>\n",
       "    <tr style=\"text-align: right;\">\n",
       "      <th></th>\n",
       "      <th>user</th>\n",
       "      <th>artist_id</th>\n",
       "      <th>artist</th>\n",
       "      <th>plays</th>\n",
       "    </tr>\n",
       "  </thead>\n",
       "  <tbody>\n",
       "    <tr>\n",
       "      <th>0</th>\n",
       "      <td>00000c289a1829a808ac09c00daf10bc3c4e223b</td>\n",
       "      <td>3bd73256-3905-4f3a-97e2-8b341527f805</td>\n",
       "      <td>betty blowtorch</td>\n",
       "      <td>2137</td>\n",
       "    </tr>\n",
       "    <tr>\n",
       "      <th>1</th>\n",
       "      <td>00000c289a1829a808ac09c00daf10bc3c4e223b</td>\n",
       "      <td>f2fb0ff0-5679-42ec-a55c-15109ce6e320</td>\n",
       "      <td>die Ärzte</td>\n",
       "      <td>1099</td>\n",
       "    </tr>\n",
       "    <tr>\n",
       "      <th>2</th>\n",
       "      <td>00000c289a1829a808ac09c00daf10bc3c4e223b</td>\n",
       "      <td>b3ae82c2-e60b-4551-a76d-6620f1b456aa</td>\n",
       "      <td>melissa etheridge</td>\n",
       "      <td>897</td>\n",
       "    </tr>\n",
       "    <tr>\n",
       "      <th>3</th>\n",
       "      <td>00000c289a1829a808ac09c00daf10bc3c4e223b</td>\n",
       "      <td>3d6bbeb7-f90e-4d10-b440-e153c0d10b53</td>\n",
       "      <td>elvenking</td>\n",
       "      <td>717</td>\n",
       "    </tr>\n",
       "    <tr>\n",
       "      <th>4</th>\n",
       "      <td>00000c289a1829a808ac09c00daf10bc3c4e223b</td>\n",
       "      <td>bbd2ffd7-17f4-4506-8572-c1ea58c3f9a8</td>\n",
       "      <td>juliette &amp; the licks</td>\n",
       "      <td>706</td>\n",
       "    </tr>\n",
       "  </tbody>\n",
       "</table>\n",
       "</div>"
      ],
      "text/plain": [
       "                                       user  \\\n",
       "0  00000c289a1829a808ac09c00daf10bc3c4e223b   \n",
       "1  00000c289a1829a808ac09c00daf10bc3c4e223b   \n",
       "2  00000c289a1829a808ac09c00daf10bc3c4e223b   \n",
       "3  00000c289a1829a808ac09c00daf10bc3c4e223b   \n",
       "4  00000c289a1829a808ac09c00daf10bc3c4e223b   \n",
       "\n",
       "                              artist_id                artist  plays  \n",
       "0  3bd73256-3905-4f3a-97e2-8b341527f805       betty blowtorch   2137  \n",
       "1  f2fb0ff0-5679-42ec-a55c-15109ce6e320             die Ärzte   1099  \n",
       "2  b3ae82c2-e60b-4551-a76d-6620f1b456aa     melissa etheridge    897  \n",
       "3  3d6bbeb7-f90e-4d10-b440-e153c0d10b53             elvenking    717  \n",
       "4  bbd2ffd7-17f4-4506-8572-c1ea58c3f9a8  juliette & the licks    706  "
      ]
     },
     "execution_count": 3,
     "metadata": {},
     "output_type": "execute_result"
    }
   ],
   "source": [
    "df1.head()"
   ]
  },
  {
   "cell_type": "code",
   "execution_count": 4,
   "metadata": {},
   "outputs": [],
   "source": [
    "# reading user profile data\n",
    "user_profile = pd.read_csv('usersha1-profile.tsv', sep = '\\t', names = ['user','gender','age','country','signup'])"
   ]
  },
  {
   "cell_type": "code",
   "execution_count": 5,
   "metadata": {},
   "outputs": [
    {
     "data": {
      "text/html": [
       "<div>\n",
       "<style scoped>\n",
       "    .dataframe tbody tr th:only-of-type {\n",
       "        vertical-align: middle;\n",
       "    }\n",
       "\n",
       "    .dataframe tbody tr th {\n",
       "        vertical-align: top;\n",
       "    }\n",
       "\n",
       "    .dataframe thead th {\n",
       "        text-align: right;\n",
       "    }\n",
       "</style>\n",
       "<table border=\"1\" class=\"dataframe\">\n",
       "  <thead>\n",
       "    <tr style=\"text-align: right;\">\n",
       "      <th></th>\n",
       "      <th>user</th>\n",
       "      <th>gender</th>\n",
       "      <th>age</th>\n",
       "      <th>country</th>\n",
       "      <th>signup</th>\n",
       "    </tr>\n",
       "  </thead>\n",
       "  <tbody>\n",
       "    <tr>\n",
       "      <th>0</th>\n",
       "      <td>00000c289a1829a808ac09c00daf10bc3c4e223b</td>\n",
       "      <td>f</td>\n",
       "      <td>22.0</td>\n",
       "      <td>Germany</td>\n",
       "      <td>Feb 1, 2007</td>\n",
       "    </tr>\n",
       "    <tr>\n",
       "      <th>1</th>\n",
       "      <td>00001411dc427966b17297bf4d69e7e193135d89</td>\n",
       "      <td>f</td>\n",
       "      <td>NaN</td>\n",
       "      <td>Canada</td>\n",
       "      <td>Dec 4, 2007</td>\n",
       "    </tr>\n",
       "    <tr>\n",
       "      <th>2</th>\n",
       "      <td>00004d2ac9316e22dc007ab2243d6fcb239e707d</td>\n",
       "      <td>NaN</td>\n",
       "      <td>NaN</td>\n",
       "      <td>Germany</td>\n",
       "      <td>Sep 1, 2006</td>\n",
       "    </tr>\n",
       "    <tr>\n",
       "      <th>3</th>\n",
       "      <td>000063d3fe1cf2ba248b9e3c3f0334845a27a6bf</td>\n",
       "      <td>m</td>\n",
       "      <td>19.0</td>\n",
       "      <td>Mexico</td>\n",
       "      <td>Apr 28, 2008</td>\n",
       "    </tr>\n",
       "    <tr>\n",
       "      <th>4</th>\n",
       "      <td>00007a47085b9aab8af55f52ec8846ac479ac4fe</td>\n",
       "      <td>m</td>\n",
       "      <td>28.0</td>\n",
       "      <td>United States</td>\n",
       "      <td>Jan 27, 2006</td>\n",
       "    </tr>\n",
       "  </tbody>\n",
       "</table>\n",
       "</div>"
      ],
      "text/plain": [
       "                                       user gender   age        country  \\\n",
       "0  00000c289a1829a808ac09c00daf10bc3c4e223b      f  22.0        Germany   \n",
       "1  00001411dc427966b17297bf4d69e7e193135d89      f   NaN         Canada   \n",
       "2  00004d2ac9316e22dc007ab2243d6fcb239e707d    NaN   NaN        Germany   \n",
       "3  000063d3fe1cf2ba248b9e3c3f0334845a27a6bf      m  19.0         Mexico   \n",
       "4  00007a47085b9aab8af55f52ec8846ac479ac4fe      m  28.0  United States   \n",
       "\n",
       "         signup  \n",
       "0   Feb 1, 2007  \n",
       "1   Dec 4, 2007  \n",
       "2   Sep 1, 2006  \n",
       "3  Apr 28, 2008  \n",
       "4  Jan 27, 2006  "
      ]
     },
     "execution_count": 5,
     "metadata": {},
     "output_type": "execute_result"
    }
   ],
   "source": [
    "user_profile.head()"
   ]
  },
  {
   "cell_type": "code",
   "execution_count": 6,
   "metadata": {},
   "outputs": [],
   "source": [
    "# filtering for users only in India or US\n",
    "user_ind_us = user_profile[user_profile['country'].isin(['United States','India'])]"
   ]
  },
  {
   "cell_type": "code",
   "execution_count": 7,
   "metadata": {},
   "outputs": [],
   "source": [
    "full_data = pd.merge(df1, user_ind_us, how='inner',on = 'user')"
   ]
  },
  {
   "cell_type": "code",
   "execution_count": 8,
   "metadata": {},
   "outputs": [],
   "source": [
    "# removing unknown artists\n",
    "unknown_artist = ['unknown','[unknown]']"
   ]
  },
  {
   "cell_type": "code",
   "execution_count": 9,
   "metadata": {},
   "outputs": [],
   "source": [
    "full_data = full_data[~full_data['artist'].isin(unknown_artist)]"
   ]
  },
  {
   "cell_type": "code",
   "execution_count": 10,
   "metadata": {},
   "outputs": [
    {
     "data": {
      "text/html": [
       "<div>\n",
       "<style scoped>\n",
       "    .dataframe tbody tr th:only-of-type {\n",
       "        vertical-align: middle;\n",
       "    }\n",
       "\n",
       "    .dataframe tbody tr th {\n",
       "        vertical-align: top;\n",
       "    }\n",
       "\n",
       "    .dataframe thead th {\n",
       "        text-align: right;\n",
       "    }\n",
       "</style>\n",
       "<table border=\"1\" class=\"dataframe\">\n",
       "  <thead>\n",
       "    <tr style=\"text-align: right;\">\n",
       "      <th></th>\n",
       "      <th>user</th>\n",
       "      <th>artist_id</th>\n",
       "      <th>artist</th>\n",
       "      <th>plays</th>\n",
       "      <th>gender</th>\n",
       "      <th>age</th>\n",
       "      <th>country</th>\n",
       "      <th>signup</th>\n",
       "    </tr>\n",
       "  </thead>\n",
       "  <tbody>\n",
       "    <tr>\n",
       "      <th>0</th>\n",
       "      <td>00007a47085b9aab8af55f52ec8846ac479ac4fe</td>\n",
       "      <td>0110e63e-0a9b-4818-af8e-41e180c20b9a</td>\n",
       "      <td>devendra banhart</td>\n",
       "      <td>456</td>\n",
       "      <td>m</td>\n",
       "      <td>28.0</td>\n",
       "      <td>United States</td>\n",
       "      <td>Jan 27, 2006</td>\n",
       "    </tr>\n",
       "    <tr>\n",
       "      <th>1</th>\n",
       "      <td>00007a47085b9aab8af55f52ec8846ac479ac4fe</td>\n",
       "      <td>69158f97-4c07-4c4e-baf8-4e4ab1ed666e</td>\n",
       "      <td>boards of canada</td>\n",
       "      <td>407</td>\n",
       "      <td>m</td>\n",
       "      <td>28.0</td>\n",
       "      <td>United States</td>\n",
       "      <td>Jan 27, 2006</td>\n",
       "    </tr>\n",
       "    <tr>\n",
       "      <th>2</th>\n",
       "      <td>00007a47085b9aab8af55f52ec8846ac479ac4fe</td>\n",
       "      <td>e162b2eb-6a42-4240-8c1b-c94d9a0acb73</td>\n",
       "      <td>cocorosie</td>\n",
       "      <td>386</td>\n",
       "      <td>m</td>\n",
       "      <td>28.0</td>\n",
       "      <td>United States</td>\n",
       "      <td>Jan 27, 2006</td>\n",
       "    </tr>\n",
       "    <tr>\n",
       "      <th>3</th>\n",
       "      <td>00007a47085b9aab8af55f52ec8846ac479ac4fe</td>\n",
       "      <td>f22942a1-6f70-4f48-866e-238cb2308fbd</td>\n",
       "      <td>aphex twin</td>\n",
       "      <td>213</td>\n",
       "      <td>m</td>\n",
       "      <td>28.0</td>\n",
       "      <td>United States</td>\n",
       "      <td>Jan 27, 2006</td>\n",
       "    </tr>\n",
       "    <tr>\n",
       "      <th>4</th>\n",
       "      <td>00007a47085b9aab8af55f52ec8846ac479ac4fe</td>\n",
       "      <td>0c751690-c784-4a4f-b1e4-c1de27d47581</td>\n",
       "      <td>animal collective</td>\n",
       "      <td>203</td>\n",
       "      <td>m</td>\n",
       "      <td>28.0</td>\n",
       "      <td>United States</td>\n",
       "      <td>Jan 27, 2006</td>\n",
       "    </tr>\n",
       "  </tbody>\n",
       "</table>\n",
       "</div>"
      ],
      "text/plain": [
       "                                       user  \\\n",
       "0  00007a47085b9aab8af55f52ec8846ac479ac4fe   \n",
       "1  00007a47085b9aab8af55f52ec8846ac479ac4fe   \n",
       "2  00007a47085b9aab8af55f52ec8846ac479ac4fe   \n",
       "3  00007a47085b9aab8af55f52ec8846ac479ac4fe   \n",
       "4  00007a47085b9aab8af55f52ec8846ac479ac4fe   \n",
       "\n",
       "                              artist_id             artist  plays gender  \\\n",
       "0  0110e63e-0a9b-4818-af8e-41e180c20b9a   devendra banhart    456      m   \n",
       "1  69158f97-4c07-4c4e-baf8-4e4ab1ed666e   boards of canada    407      m   \n",
       "2  e162b2eb-6a42-4240-8c1b-c94d9a0acb73          cocorosie    386      m   \n",
       "3  f22942a1-6f70-4f48-866e-238cb2308fbd         aphex twin    213      m   \n",
       "4  0c751690-c784-4a4f-b1e4-c1de27d47581  animal collective    203      m   \n",
       "\n",
       "    age        country        signup  \n",
       "0  28.0  United States  Jan 27, 2006  \n",
       "1  28.0  United States  Jan 27, 2006  \n",
       "2  28.0  United States  Jan 27, 2006  \n",
       "3  28.0  United States  Jan 27, 2006  \n",
       "4  28.0  United States  Jan 27, 2006  "
      ]
     },
     "execution_count": 10,
     "metadata": {},
     "output_type": "execute_result"
    }
   ],
   "source": [
    "full_data.head()"
   ]
  },
  {
   "cell_type": "code",
   "execution_count": 11,
   "metadata": {},
   "outputs": [],
   "source": [
    "edit_df = full_data[['user','artist','plays']]"
   ]
  },
  {
   "cell_type": "code",
   "execution_count": 12,
   "metadata": {},
   "outputs": [],
   "source": [
    "# removing na\n",
    "edit_df.dropna(inplace=True)"
   ]
  },
  {
   "cell_type": "code",
   "execution_count": 13,
   "metadata": {},
   "outputs": [],
   "source": [
    "edit_df['artist'] = edit_df['artist'].str.lower()"
   ]
  },
  {
   "cell_type": "code",
   "execution_count": 14,
   "metadata": {},
   "outputs": [
    {
     "data": {
      "text/plain": [
       "115409"
      ]
     },
     "execution_count": 14,
     "metadata": {},
     "output_type": "execute_result"
    }
   ],
   "source": [
    "# number of unique artists\n",
    "edit_df.artist.nunique()"
   ]
  },
  {
   "cell_type": "code",
   "execution_count": 15,
   "metadata": {},
   "outputs": [],
   "source": [
    "# reading Pranay's lastfm data\n",
    "pranay = pd.read_csv('Pranay_Singla2.csv', names=['artist','album','track','time'])"
   ]
  },
  {
   "cell_type": "code",
   "execution_count": 16,
   "metadata": {},
   "outputs": [],
   "source": [
    "pranay = pranay[['artist','track']]"
   ]
  },
  {
   "cell_type": "code",
   "execution_count": 17,
   "metadata": {},
   "outputs": [],
   "source": [
    "pranay_df = pranay.groupby(['artist','track'], as_index=False).size()"
   ]
  },
  {
   "cell_type": "code",
   "execution_count": 18,
   "metadata": {},
   "outputs": [],
   "source": [
    "pranay_df['artist'] = pranay_df['artist'].str.lower()"
   ]
  },
  {
   "cell_type": "code",
   "execution_count": 19,
   "metadata": {},
   "outputs": [],
   "source": [
    "my_artists = list(set(list(pranay_df['artist'])))"
   ]
  },
  {
   "cell_type": "code",
   "execution_count": 20,
   "metadata": {},
   "outputs": [
    {
     "data": {
      "text/plain": [
       "224"
      ]
     },
     "execution_count": 20,
     "metadata": {},
     "output_type": "execute_result"
    }
   ],
   "source": [
    "# number of artists in Pranay's data\n",
    "len(my_artists)"
   ]
  },
  {
   "cell_type": "code",
   "execution_count": 21,
   "metadata": {},
   "outputs": [],
   "source": [
    "all_artists = list(set(list(edit_df['artist'])))"
   ]
  },
  {
   "cell_type": "code",
   "execution_count": 22,
   "metadata": {},
   "outputs": [],
   "source": [
    "remove_artist = []\n",
    "for abc in my_artists:\n",
    "    if abc not in all_artists:\n",
    "        remove_artist.append(abc)"
   ]
  },
  {
   "cell_type": "code",
   "execution_count": 23,
   "metadata": {},
   "outputs": [],
   "source": [
    "my_artist_new = [l for l in my_artists if l not in remove_artist]"
   ]
  },
  {
   "cell_type": "code",
   "execution_count": 24,
   "metadata": {},
   "outputs": [],
   "source": [
    "# selecting only top 500 artists for further analysis\n",
    "top_1000 = edit_df.groupby('artist', as_index=False)['plays'].sum()"
   ]
  },
  {
   "cell_type": "code",
   "execution_count": 25,
   "metadata": {},
   "outputs": [],
   "source": [
    "top_1000 = top_1000.sort_values('plays', ascending=False)"
   ]
  },
  {
   "cell_type": "code",
   "execution_count": 26,
   "metadata": {},
   "outputs": [],
   "source": [
    "top_1000 = top_1000.iloc[:1000,:].reset_index(drop = True)"
   ]
  },
  {
   "cell_type": "code",
   "execution_count": 27,
   "metadata": {},
   "outputs": [],
   "source": [
    "top_1000_artists = list(top_1000['artist'])"
   ]
  },
  {
   "cell_type": "code",
   "execution_count": 28,
   "metadata": {},
   "outputs": [],
   "source": [
    "top_500_artists = top_1000_artists[:500]"
   ]
  },
  {
   "cell_type": "code",
   "execution_count": 29,
   "metadata": {},
   "outputs": [],
   "source": [
    "# final list of artists\n",
    "final_artists = list(set(top_500_artists + my_artist_new))"
   ]
  },
  {
   "cell_type": "code",
   "execution_count": 30,
   "metadata": {},
   "outputs": [],
   "source": [
    "pranay_final = pranay_df[pranay_df['artist'].isin(final_artists)]"
   ]
  },
  {
   "cell_type": "code",
   "execution_count": 31,
   "metadata": {},
   "outputs": [],
   "source": [
    "pranay_final = pranay_final.groupby('artist',as_index=False).sum('size')"
   ]
  },
  {
   "cell_type": "code",
   "execution_count": 32,
   "metadata": {},
   "outputs": [],
   "source": [
    "pranay_final['user'] = 'Pranay_Singla'"
   ]
  },
  {
   "cell_type": "code",
   "execution_count": 33,
   "metadata": {},
   "outputs": [],
   "source": [
    "pranay_final = pranay_final[['user','artist','size']]"
   ]
  },
  {
   "cell_type": "code",
   "execution_count": 34,
   "metadata": {},
   "outputs": [],
   "source": [
    "pranay_final.columns = ['user','artist','plays']"
   ]
  },
  {
   "cell_type": "code",
   "execution_count": 35,
   "metadata": {},
   "outputs": [
    {
     "data": {
      "text/html": [
       "<div>\n",
       "<style scoped>\n",
       "    .dataframe tbody tr th:only-of-type {\n",
       "        vertical-align: middle;\n",
       "    }\n",
       "\n",
       "    .dataframe tbody tr th {\n",
       "        vertical-align: top;\n",
       "    }\n",
       "\n",
       "    .dataframe thead th {\n",
       "        text-align: right;\n",
       "    }\n",
       "</style>\n",
       "<table border=\"1\" class=\"dataframe\">\n",
       "  <thead>\n",
       "    <tr style=\"text-align: right;\">\n",
       "      <th></th>\n",
       "      <th>user</th>\n",
       "      <th>artist</th>\n",
       "      <th>plays</th>\n",
       "    </tr>\n",
       "  </thead>\n",
       "  <tbody>\n",
       "    <tr>\n",
       "      <th>0</th>\n",
       "      <td>Pranay_Singla</td>\n",
       "      <td>*nsync</td>\n",
       "      <td>2</td>\n",
       "    </tr>\n",
       "    <tr>\n",
       "      <th>1</th>\n",
       "      <td>Pranay_Singla</td>\n",
       "      <td>a.r. rahman</td>\n",
       "      <td>1</td>\n",
       "    </tr>\n",
       "    <tr>\n",
       "      <th>2</th>\n",
       "      <td>Pranay_Singla</td>\n",
       "      <td>abba</td>\n",
       "      <td>2</td>\n",
       "    </tr>\n",
       "    <tr>\n",
       "      <th>3</th>\n",
       "      <td>Pranay_Singla</td>\n",
       "      <td>ac/dc</td>\n",
       "      <td>8</td>\n",
       "    </tr>\n",
       "    <tr>\n",
       "      <th>4</th>\n",
       "      <td>Pranay_Singla</td>\n",
       "      <td>adele</td>\n",
       "      <td>2</td>\n",
       "    </tr>\n",
       "  </tbody>\n",
       "</table>\n",
       "</div>"
      ],
      "text/plain": [
       "            user       artist  plays\n",
       "0  Pranay_Singla       *nsync      2\n",
       "1  Pranay_Singla  a.r. rahman      1\n",
       "2  Pranay_Singla         abba      2\n",
       "3  Pranay_Singla        ac/dc      8\n",
       "4  Pranay_Singla        adele      2"
      ]
     },
     "execution_count": 35,
     "metadata": {},
     "output_type": "execute_result"
    }
   ],
   "source": [
    "pranay_final.head()"
   ]
  },
  {
   "cell_type": "code",
   "execution_count": 36,
   "metadata": {},
   "outputs": [],
   "source": [
    "edit_2 = edit_df[edit_df['artist'].isin(final_artists)]"
   ]
  },
  {
   "cell_type": "code",
   "execution_count": 37,
   "metadata": {},
   "outputs": [],
   "source": [
    "# combining the 2 datasets\n",
    "combined_df = pd.concat([edit_2, pranay_final])"
   ]
  },
  {
   "cell_type": "code",
   "execution_count": 38,
   "metadata": {},
   "outputs": [],
   "source": [
    "combined_df = combined_df.reset_index(drop = True)"
   ]
  },
  {
   "cell_type": "code",
   "execution_count": 39,
   "metadata": {},
   "outputs": [
    {
     "data": {
      "text/html": [
       "<div>\n",
       "<style scoped>\n",
       "    .dataframe tbody tr th:only-of-type {\n",
       "        vertical-align: middle;\n",
       "    }\n",
       "\n",
       "    .dataframe tbody tr th {\n",
       "        vertical-align: top;\n",
       "    }\n",
       "\n",
       "    .dataframe thead th {\n",
       "        text-align: right;\n",
       "    }\n",
       "</style>\n",
       "<table border=\"1\" class=\"dataframe\">\n",
       "  <thead>\n",
       "    <tr style=\"text-align: right;\">\n",
       "      <th></th>\n",
       "      <th>user</th>\n",
       "      <th>artist</th>\n",
       "      <th>plays</th>\n",
       "    </tr>\n",
       "  </thead>\n",
       "  <tbody>\n",
       "    <tr>\n",
       "      <th>0</th>\n",
       "      <td>00007a47085b9aab8af55f52ec8846ac479ac4fe</td>\n",
       "      <td>devendra banhart</td>\n",
       "      <td>456</td>\n",
       "    </tr>\n",
       "    <tr>\n",
       "      <th>1</th>\n",
       "      <td>00007a47085b9aab8af55f52ec8846ac479ac4fe</td>\n",
       "      <td>boards of canada</td>\n",
       "      <td>407</td>\n",
       "    </tr>\n",
       "    <tr>\n",
       "      <th>2</th>\n",
       "      <td>00007a47085b9aab8af55f52ec8846ac479ac4fe</td>\n",
       "      <td>cocorosie</td>\n",
       "      <td>386</td>\n",
       "    </tr>\n",
       "    <tr>\n",
       "      <th>3</th>\n",
       "      <td>00007a47085b9aab8af55f52ec8846ac479ac4fe</td>\n",
       "      <td>aphex twin</td>\n",
       "      <td>213</td>\n",
       "    </tr>\n",
       "    <tr>\n",
       "      <th>4</th>\n",
       "      <td>00007a47085b9aab8af55f52ec8846ac479ac4fe</td>\n",
       "      <td>animal collective</td>\n",
       "      <td>203</td>\n",
       "    </tr>\n",
       "    <tr>\n",
       "      <th>...</th>\n",
       "      <td>...</td>\n",
       "      <td>...</td>\n",
       "      <td>...</td>\n",
       "    </tr>\n",
       "    <tr>\n",
       "      <th>1397492</th>\n",
       "      <td>Pranay_Singla</td>\n",
       "      <td>the who</td>\n",
       "      <td>13</td>\n",
       "    </tr>\n",
       "    <tr>\n",
       "      <th>1397493</th>\n",
       "      <td>Pranay_Singla</td>\n",
       "      <td>tiësto</td>\n",
       "      <td>2</td>\n",
       "    </tr>\n",
       "    <tr>\n",
       "      <th>1397494</th>\n",
       "      <td>Pranay_Singla</td>\n",
       "      <td>tom petty and the heartbreakers</td>\n",
       "      <td>2</td>\n",
       "    </tr>\n",
       "    <tr>\n",
       "      <th>1397495</th>\n",
       "      <td>Pranay_Singla</td>\n",
       "      <td>vengaboys</td>\n",
       "      <td>2</td>\n",
       "    </tr>\n",
       "    <tr>\n",
       "      <th>1397496</th>\n",
       "      <td>Pranay_Singla</td>\n",
       "      <td>zz top</td>\n",
       "      <td>1</td>\n",
       "    </tr>\n",
       "  </tbody>\n",
       "</table>\n",
       "<p>1397497 rows × 3 columns</p>\n",
       "</div>"
      ],
      "text/plain": [
       "                                             user  \\\n",
       "0        00007a47085b9aab8af55f52ec8846ac479ac4fe   \n",
       "1        00007a47085b9aab8af55f52ec8846ac479ac4fe   \n",
       "2        00007a47085b9aab8af55f52ec8846ac479ac4fe   \n",
       "3        00007a47085b9aab8af55f52ec8846ac479ac4fe   \n",
       "4        00007a47085b9aab8af55f52ec8846ac479ac4fe   \n",
       "...                                           ...   \n",
       "1397492                             Pranay_Singla   \n",
       "1397493                             Pranay_Singla   \n",
       "1397494                             Pranay_Singla   \n",
       "1397495                             Pranay_Singla   \n",
       "1397496                             Pranay_Singla   \n",
       "\n",
       "                                  artist  plays  \n",
       "0                       devendra banhart    456  \n",
       "1                       boards of canada    407  \n",
       "2                              cocorosie    386  \n",
       "3                             aphex twin    213  \n",
       "4                      animal collective    203  \n",
       "...                                  ...    ...  \n",
       "1397492                          the who     13  \n",
       "1397493                           tiësto      2  \n",
       "1397494  tom petty and the heartbreakers      2  \n",
       "1397495                        vengaboys      2  \n",
       "1397496                           zz top      1  \n",
       "\n",
       "[1397497 rows x 3 columns]"
      ]
     },
     "execution_count": 39,
     "metadata": {},
     "output_type": "execute_result"
    }
   ],
   "source": [
    "combined_df"
   ]
  },
  {
   "cell_type": "code",
   "execution_count": 40,
   "metadata": {},
   "outputs": [],
   "source": [
    "# creating pivot table for analysis\n",
    "lastfm = combined_df.pivot_table('plays','user','artist')"
   ]
  },
  {
   "cell_type": "code",
   "execution_count": 41,
   "metadata": {},
   "outputs": [],
   "source": [
    "# replacing na's by 0\n",
    "lastfm.fillna(0, inplace=True)"
   ]
  },
  {
   "cell_type": "code",
   "execution_count": 42,
   "metadata": {},
   "outputs": [
    {
     "data": {
      "text/html": [
       "<div>\n",
       "<style scoped>\n",
       "    .dataframe tbody tr th:only-of-type {\n",
       "        vertical-align: middle;\n",
       "    }\n",
       "\n",
       "    .dataframe tbody tr th {\n",
       "        vertical-align: top;\n",
       "    }\n",
       "\n",
       "    .dataframe thead th {\n",
       "        text-align: right;\n",
       "    }\n",
       "</style>\n",
       "<table border=\"1\" class=\"dataframe\">\n",
       "  <thead>\n",
       "    <tr style=\"text-align: right;\">\n",
       "      <th>artist</th>\n",
       "      <th>*nsync</th>\n",
       "      <th>2pac</th>\n",
       "      <th>3 doors down</th>\n",
       "      <th>30 seconds to mars</th>\n",
       "      <th>311</th>\n",
       "      <th>50 cent</th>\n",
       "      <th>a day to remember</th>\n",
       "      <th>a perfect circle</th>\n",
       "      <th>a tribe called quest</th>\n",
       "      <th>a.r. rahman</th>\n",
       "      <th>...</th>\n",
       "      <th>why?</th>\n",
       "      <th>wilco</th>\n",
       "      <th>wu-tang clan</th>\n",
       "      <th>yann tiersen</th>\n",
       "      <th>yeah yeah yeahs</th>\n",
       "      <th>yo la tengo</th>\n",
       "      <th>zz top</th>\n",
       "      <th>植松伸夫</th>\n",
       "      <th>菅野よう子</th>\n",
       "      <th>동방신기</th>\n",
       "    </tr>\n",
       "    <tr>\n",
       "      <th>user</th>\n",
       "      <th></th>\n",
       "      <th></th>\n",
       "      <th></th>\n",
       "      <th></th>\n",
       "      <th></th>\n",
       "      <th></th>\n",
       "      <th></th>\n",
       "      <th></th>\n",
       "      <th></th>\n",
       "      <th></th>\n",
       "      <th></th>\n",
       "      <th></th>\n",
       "      <th></th>\n",
       "      <th></th>\n",
       "      <th></th>\n",
       "      <th></th>\n",
       "      <th></th>\n",
       "      <th></th>\n",
       "      <th></th>\n",
       "      <th></th>\n",
       "      <th></th>\n",
       "    </tr>\n",
       "  </thead>\n",
       "  <tbody>\n",
       "    <tr>\n",
       "      <th>00007a47085b9aab8af55f52ec8846ac479ac4fe</th>\n",
       "      <td>0.0</td>\n",
       "      <td>0.0</td>\n",
       "      <td>0.0</td>\n",
       "      <td>0.0</td>\n",
       "      <td>0.0</td>\n",
       "      <td>0.0</td>\n",
       "      <td>0.0</td>\n",
       "      <td>0.0</td>\n",
       "      <td>0.0</td>\n",
       "      <td>0.0</td>\n",
       "      <td>...</td>\n",
       "      <td>91.0</td>\n",
       "      <td>0.0</td>\n",
       "      <td>0.0</td>\n",
       "      <td>0.0</td>\n",
       "      <td>0.0</td>\n",
       "      <td>0.0</td>\n",
       "      <td>0.0</td>\n",
       "      <td>0.0</td>\n",
       "      <td>0.0</td>\n",
       "      <td>0.0</td>\n",
       "    </tr>\n",
       "    <tr>\n",
       "      <th>0001a57568309b287363e72dc682e9a170ba6dc2</th>\n",
       "      <td>0.0</td>\n",
       "      <td>0.0</td>\n",
       "      <td>0.0</td>\n",
       "      <td>0.0</td>\n",
       "      <td>0.0</td>\n",
       "      <td>0.0</td>\n",
       "      <td>0.0</td>\n",
       "      <td>0.0</td>\n",
       "      <td>0.0</td>\n",
       "      <td>0.0</td>\n",
       "      <td>...</td>\n",
       "      <td>0.0</td>\n",
       "      <td>0.0</td>\n",
       "      <td>0.0</td>\n",
       "      <td>0.0</td>\n",
       "      <td>0.0</td>\n",
       "      <td>0.0</td>\n",
       "      <td>0.0</td>\n",
       "      <td>0.0</td>\n",
       "      <td>0.0</td>\n",
       "      <td>0.0</td>\n",
       "    </tr>\n",
       "    <tr>\n",
       "      <th>00024b5b85c40f990c28644d53257819980bf6bb</th>\n",
       "      <td>0.0</td>\n",
       "      <td>0.0</td>\n",
       "      <td>0.0</td>\n",
       "      <td>0.0</td>\n",
       "      <td>0.0</td>\n",
       "      <td>0.0</td>\n",
       "      <td>0.0</td>\n",
       "      <td>0.0</td>\n",
       "      <td>0.0</td>\n",
       "      <td>0.0</td>\n",
       "      <td>...</td>\n",
       "      <td>0.0</td>\n",
       "      <td>0.0</td>\n",
       "      <td>0.0</td>\n",
       "      <td>0.0</td>\n",
       "      <td>0.0</td>\n",
       "      <td>0.0</td>\n",
       "      <td>0.0</td>\n",
       "      <td>0.0</td>\n",
       "      <td>0.0</td>\n",
       "      <td>0.0</td>\n",
       "    </tr>\n",
       "    <tr>\n",
       "      <th>0002dd2154072434d26e5409faa591bfb260a01e</th>\n",
       "      <td>0.0</td>\n",
       "      <td>0.0</td>\n",
       "      <td>0.0</td>\n",
       "      <td>0.0</td>\n",
       "      <td>0.0</td>\n",
       "      <td>0.0</td>\n",
       "      <td>0.0</td>\n",
       "      <td>0.0</td>\n",
       "      <td>0.0</td>\n",
       "      <td>0.0</td>\n",
       "      <td>...</td>\n",
       "      <td>0.0</td>\n",
       "      <td>0.0</td>\n",
       "      <td>0.0</td>\n",
       "      <td>0.0</td>\n",
       "      <td>0.0</td>\n",
       "      <td>0.0</td>\n",
       "      <td>0.0</td>\n",
       "      <td>0.0</td>\n",
       "      <td>0.0</td>\n",
       "      <td>0.0</td>\n",
       "    </tr>\n",
       "    <tr>\n",
       "      <th>00032c7933e0eb05f2258f1147ef81a90f2d4d6c</th>\n",
       "      <td>0.0</td>\n",
       "      <td>0.0</td>\n",
       "      <td>0.0</td>\n",
       "      <td>0.0</td>\n",
       "      <td>0.0</td>\n",
       "      <td>0.0</td>\n",
       "      <td>0.0</td>\n",
       "      <td>0.0</td>\n",
       "      <td>0.0</td>\n",
       "      <td>0.0</td>\n",
       "      <td>...</td>\n",
       "      <td>0.0</td>\n",
       "      <td>0.0</td>\n",
       "      <td>0.0</td>\n",
       "      <td>0.0</td>\n",
       "      <td>0.0</td>\n",
       "      <td>0.0</td>\n",
       "      <td>0.0</td>\n",
       "      <td>0.0</td>\n",
       "      <td>0.0</td>\n",
       "      <td>0.0</td>\n",
       "    </tr>\n",
       "  </tbody>\n",
       "</table>\n",
       "<p>5 rows × 568 columns</p>\n",
       "</div>"
      ],
      "text/plain": [
       "artist                                    *nsync  2pac  3 doors down  \\\n",
       "user                                                                   \n",
       "00007a47085b9aab8af55f52ec8846ac479ac4fe     0.0   0.0           0.0   \n",
       "0001a57568309b287363e72dc682e9a170ba6dc2     0.0   0.0           0.0   \n",
       "00024b5b85c40f990c28644d53257819980bf6bb     0.0   0.0           0.0   \n",
       "0002dd2154072434d26e5409faa591bfb260a01e     0.0   0.0           0.0   \n",
       "00032c7933e0eb05f2258f1147ef81a90f2d4d6c     0.0   0.0           0.0   \n",
       "\n",
       "artist                                    30 seconds to mars  311  50 cent  \\\n",
       "user                                                                         \n",
       "00007a47085b9aab8af55f52ec8846ac479ac4fe                 0.0  0.0      0.0   \n",
       "0001a57568309b287363e72dc682e9a170ba6dc2                 0.0  0.0      0.0   \n",
       "00024b5b85c40f990c28644d53257819980bf6bb                 0.0  0.0      0.0   \n",
       "0002dd2154072434d26e5409faa591bfb260a01e                 0.0  0.0      0.0   \n",
       "00032c7933e0eb05f2258f1147ef81a90f2d4d6c                 0.0  0.0      0.0   \n",
       "\n",
       "artist                                    a day to remember  a perfect circle  \\\n",
       "user                                                                            \n",
       "00007a47085b9aab8af55f52ec8846ac479ac4fe                0.0               0.0   \n",
       "0001a57568309b287363e72dc682e9a170ba6dc2                0.0               0.0   \n",
       "00024b5b85c40f990c28644d53257819980bf6bb                0.0               0.0   \n",
       "0002dd2154072434d26e5409faa591bfb260a01e                0.0               0.0   \n",
       "00032c7933e0eb05f2258f1147ef81a90f2d4d6c                0.0               0.0   \n",
       "\n",
       "artist                                    a tribe called quest  a.r. rahman  \\\n",
       "user                                                                          \n",
       "00007a47085b9aab8af55f52ec8846ac479ac4fe                   0.0          0.0   \n",
       "0001a57568309b287363e72dc682e9a170ba6dc2                   0.0          0.0   \n",
       "00024b5b85c40f990c28644d53257819980bf6bb                   0.0          0.0   \n",
       "0002dd2154072434d26e5409faa591bfb260a01e                   0.0          0.0   \n",
       "00032c7933e0eb05f2258f1147ef81a90f2d4d6c                   0.0          0.0   \n",
       "\n",
       "artist                                    ...  why?  wilco  wu-tang clan  \\\n",
       "user                                      ...                              \n",
       "00007a47085b9aab8af55f52ec8846ac479ac4fe  ...  91.0    0.0           0.0   \n",
       "0001a57568309b287363e72dc682e9a170ba6dc2  ...   0.0    0.0           0.0   \n",
       "00024b5b85c40f990c28644d53257819980bf6bb  ...   0.0    0.0           0.0   \n",
       "0002dd2154072434d26e5409faa591bfb260a01e  ...   0.0    0.0           0.0   \n",
       "00032c7933e0eb05f2258f1147ef81a90f2d4d6c  ...   0.0    0.0           0.0   \n",
       "\n",
       "artist                                    yann tiersen  yeah yeah yeahs  \\\n",
       "user                                                                      \n",
       "00007a47085b9aab8af55f52ec8846ac479ac4fe           0.0              0.0   \n",
       "0001a57568309b287363e72dc682e9a170ba6dc2           0.0              0.0   \n",
       "00024b5b85c40f990c28644d53257819980bf6bb           0.0              0.0   \n",
       "0002dd2154072434d26e5409faa591bfb260a01e           0.0              0.0   \n",
       "00032c7933e0eb05f2258f1147ef81a90f2d4d6c           0.0              0.0   \n",
       "\n",
       "artist                                    yo la tengo  zz top  植松伸夫  菅野よう子  \\\n",
       "user                                                                         \n",
       "00007a47085b9aab8af55f52ec8846ac479ac4fe          0.0     0.0   0.0    0.0   \n",
       "0001a57568309b287363e72dc682e9a170ba6dc2          0.0     0.0   0.0    0.0   \n",
       "00024b5b85c40f990c28644d53257819980bf6bb          0.0     0.0   0.0    0.0   \n",
       "0002dd2154072434d26e5409faa591bfb260a01e          0.0     0.0   0.0    0.0   \n",
       "00032c7933e0eb05f2258f1147ef81a90f2d4d6c          0.0     0.0   0.0    0.0   \n",
       "\n",
       "artist                                    동방신기  \n",
       "user                                            \n",
       "00007a47085b9aab8af55f52ec8846ac479ac4fe   0.0  \n",
       "0001a57568309b287363e72dc682e9a170ba6dc2   0.0  \n",
       "00024b5b85c40f990c28644d53257819980bf6bb   0.0  \n",
       "0002dd2154072434d26e5409faa591bfb260a01e   0.0  \n",
       "00032c7933e0eb05f2258f1147ef81a90f2d4d6c   0.0  \n",
       "\n",
       "[5 rows x 568 columns]"
      ]
     },
     "execution_count": 42,
     "metadata": {},
     "output_type": "execute_result"
    }
   ],
   "source": [
    "lastfm.head()"
   ]
  },
  {
   "cell_type": "code",
   "execution_count": 43,
   "metadata": {},
   "outputs": [],
   "source": [
    "# replacing values > 0 by 1 to replace number of plays by simple artist-user mapping\n",
    "lastfm_df = lastfm.apply(lambda x:[1 if y > 0 else y for y in x])"
   ]
  },
  {
   "cell_type": "code",
   "execution_count": 44,
   "metadata": {},
   "outputs": [],
   "source": [
    "lastfm_df['my_artists_sum'] = lastfm_df[my_artist_new].sum(axis = 1)"
   ]
  },
  {
   "cell_type": "code",
   "execution_count": 45,
   "metadata": {},
   "outputs": [],
   "source": [
    "# subset dataset for recommendation considering only those users who have atleast 4 common artist preferences\n",
    "lastfm_subset = lastfm_df[lastfm_df['my_artists_sum'] > 4]"
   ]
  },
  {
   "cell_type": "code",
   "execution_count": 46,
   "metadata": {},
   "outputs": [],
   "source": [
    "lastfm_subset.drop(['my_artists_sum'], inplace=True, axis = 1)"
   ]
  },
  {
   "cell_type": "code",
   "execution_count": 47,
   "metadata": {},
   "outputs": [],
   "source": [
    "lastfm_df.drop(['my_artists_sum'], inplace = True, axis = 1)"
   ]
  },
  {
   "cell_type": "code",
   "execution_count": 48,
   "metadata": {},
   "outputs": [],
   "source": [
    "lastfm_subset.to_csv('lastfm1.csv')"
   ]
  },
  {
   "cell_type": "code",
   "execution_count": 49,
   "metadata": {},
   "outputs": [],
   "source": [
    "lastfm_df.to_csv('lastfm.csv')"
   ]
  },
  {
   "cell_type": "markdown",
   "metadata": {},
   "source": [
    "## Collaborative Filtering"
   ]
  },
  {
   "cell_type": "code",
   "execution_count": 50,
   "metadata": {},
   "outputs": [],
   "source": [
    "# Reading Saved File\n",
    "lastfm_subset = pd.read_csv('lastfm1.csv')"
   ]
  },
  {
   "cell_type": "code",
   "execution_count": 51,
   "metadata": {},
   "outputs": [],
   "source": [
    "data_items = lastfm_subset.drop('user', 1)"
   ]
  },
  {
   "cell_type": "code",
   "execution_count": 52,
   "metadata": {},
   "outputs": [],
   "source": [
    "# calculating magnitude and dividing by the data to make sure each user has equal contribution\n",
    "magnitude = np.sqrt(np.square(data_items).sum(axis=1))"
   ]
  },
  {
   "cell_type": "code",
   "execution_count": 53,
   "metadata": {},
   "outputs": [],
   "source": [
    "data_items = data_items.divide(magnitude, axis='index')"
   ]
  },
  {
   "cell_type": "code",
   "execution_count": 54,
   "metadata": {},
   "outputs": [],
   "source": [
    "# calculating similarity (cosine) for collaborative filtering\n",
    "def calculate_similarity(data_items):\n",
    "    data_sparse = sparse.csr_matrix(data_items)\n",
    "    similarities = cosine_similarity(data_sparse.transpose())\n",
    "    sim = pd.DataFrame(data=similarities, index= data_items.columns, columns= data_items.columns)\n",
    "    return sim"
   ]
  },
  {
   "cell_type": "code",
   "execution_count": 55,
   "metadata": {},
   "outputs": [],
   "source": [
    "# Build the similarity matrix\n",
    "data_matrix = calculate_similarity(data_items)"
   ]
  },
  {
   "cell_type": "markdown",
   "metadata": {},
   "source": [
    "##### top 10 similar artists for queen based on user listening preferences"
   ]
  },
  {
   "cell_type": "code",
   "execution_count": 56,
   "metadata": {},
   "outputs": [],
   "source": [
    "vizdf = pd.DataFrame(data_matrix.loc['queen'].nlargest(11)[1:])\n",
    "vizdf.columns = ['cosine_similarity']"
   ]
  },
  {
   "cell_type": "code",
   "execution_count": 57,
   "metadata": {
    "scrolled": false
   },
   "outputs": [
    {
     "data": {
      "image/png": "[encoded data removed]",
      "text/plain": [
       "<Figure size 640x400 with 1 Axes>"
      ]
     },
     "metadata": {
      "needs_background": "light"
     },
     "output_type": "display_data"
    }
   ],
   "source": [
    "# Draw plot\n",
    "fig, ax = plt.subplots(figsize=(8,5), dpi= 80)\n",
    "ax.vlines(x=vizdf.index, ymin=0, ymax=vizdf.cosine_similarity, color='firebrick', alpha=0.7, linewidth=2)\n",
    "ax.scatter(x=vizdf.index, y=vizdf.cosine_similarity, s=75, color='firebrick', alpha=0.7)\n",
    "\n",
    "# Title, Label, Ticks and Ylim\n",
    "ax.set_title('Top 10 similar artists to Queen based on user listening preferences', fontdict={'size':15})\n",
    "ax.set_ylabel('Cosine Similarity')\n",
    "ax.set_xticks(vizdf.index)\n",
    "ax.set_xticklabels(vizdf.index, rotation=60, fontdict={'horizontalalignment': 'right', 'size':12})\n",
    "ax.set_ylim(0, .5)\n",
    "\n",
    "# Annotate\n",
    "# for row in vizdf.itertuples():\n",
    "#     ax.text(row.Index, row.cty+.5, s=round(row.cty, 2), horizontalalignment= 'center', verticalalignment='bottom', fontsize=14)\n",
    "\n",
    "plt.show()"
   ]
  },
  {
   "cell_type": "markdown",
   "metadata": {},
   "source": [
    "##### top 10 similar artists for rihanna based on user listening preferences"
   ]
  },
  {
   "cell_type": "code",
   "execution_count": 58,
   "metadata": {},
   "outputs": [],
   "source": [
    "vizdf = pd.DataFrame(data_matrix.loc['rihanna'].nlargest(11)[1:])\n",
    "vizdf.columns = ['cosine_similarity']"
   ]
  },
  {
   "cell_type": "code",
   "execution_count": 59,
   "metadata": {},
   "outputs": [
    {
     "data": {
      "image/png": "[encoded data removed]",
      "text/plain": [
       "<Figure size 640x400 with 1 Axes>"
      ]
     },
     "metadata": {
      "needs_background": "light"
     },
     "output_type": "display_data"
    }
   ],
   "source": [
    "# Draw plot\n",
    "fig, ax = plt.subplots(figsize=(8,5), dpi= 80)\n",
    "ax.vlines(x=vizdf.index, ymin=0, ymax=vizdf.cosine_similarity, color='firebrick', alpha=0.7, linewidth=2)\n",
    "ax.scatter(x=vizdf.index, y=vizdf.cosine_similarity, s=75, color='firebrick', alpha=0.7)\n",
    "\n",
    "# Title, Label, Ticks and Ylim\n",
    "ax.set_title('Top 10 similar artists to Rihanna based on user listening preferences', fontdict={'size':15})\n",
    "ax.set_ylabel('Cosine Similarity')\n",
    "ax.set_xticks(vizdf.index)\n",
    "ax.set_xticklabels(vizdf.index, rotation=60, fontdict={'horizontalalignment': 'right', 'size':12})\n",
    "ax.set_ylim(0, .5)\n",
    "\n",
    "# Annotate\n",
    "# for row in vizdf.itertuples():\n",
    "#     ax.text(row.Index, row.cty+.5, s=round(row.cty, 2), horizontalalignment= 'center', verticalalignment='bottom', fontsize=14)\n",
    "\n",
    "plt.show()"
   ]
  },
  {
   "cell_type": "markdown",
   "metadata": {},
   "source": [
    "##### top 10 similar artists for eminem based on user listening preferences"
   ]
  },
  {
   "cell_type": "code",
   "execution_count": 60,
   "metadata": {},
   "outputs": [],
   "source": [
    "vizdf = pd.DataFrame(data_matrix.loc['eminem'].nlargest(11)[1:])\n",
    "vizdf.columns = ['cosine_similarity']"
   ]
  },
  {
   "cell_type": "code",
   "execution_count": 61,
   "metadata": {},
   "outputs": [
    {
     "data": {
      "image/png": "[encoded data removed]",
      "text/plain": [
       "<Figure size 640x400 with 1 Axes>"
      ]
     },
     "metadata": {
      "needs_background": "light"
     },
     "output_type": "display_data"
    }
   ],
   "source": [
    "# Draw plot\n",
    "fig, ax = plt.subplots(figsize=(8,5), dpi= 80)\n",
    "ax.vlines(x=vizdf.index, ymin=0, ymax=vizdf.cosine_similarity, color='firebrick', alpha=0.7, linewidth=2)\n",
    "ax.scatter(x=vizdf.index, y=vizdf.cosine_similarity, s=75, color='firebrick', alpha=0.7)\n",
    "\n",
    "# Title, Label, Ticks and Ylim\n",
    "ax.set_title('Top 10 similar artists to Eminem based on user listening preferences', fontdict={'size':15})\n",
    "ax.set_ylabel('Cosine Similarity')\n",
    "ax.set_xticks(vizdf.index)\n",
    "ax.set_xticklabels(vizdf.index, rotation=60, fontdict={'horizontalalignment': 'right', 'size':12})\n",
    "ax.set_ylim(0, .5)\n",
    "\n",
    "# Annotate\n",
    "# for row in vizdf.itertuples():\n",
    "#     ax.text(row.Index, row.cty+.5, s=round(row.cty, 2), horizontalalignment= 'center', verticalalignment='bottom', fontsize=14)\n",
    "\n",
    "plt.show()"
   ]
  },
  {
   "cell_type": "markdown",
   "metadata": {},
   "source": [
    "##### top 10 similar artists for deadmau5 based on user listening preferences"
   ]
  },
  {
   "cell_type": "code",
   "execution_count": 62,
   "metadata": {},
   "outputs": [],
   "source": [
    "vizdf = pd.DataFrame(data_matrix.loc['deadmau5'].nlargest(11)[1:])\n",
    "vizdf.columns = ['cosine_similarity']"
   ]
  },
  {
   "cell_type": "code",
   "execution_count": 63,
   "metadata": {},
   "outputs": [
    {
     "data": {
      "image/png": "[encoded data removed]",
      "text/plain": [
       "<Figure size 640x400 with 1 Axes>"
      ]
     },
     "metadata": {
      "needs_background": "light"
     },
     "output_type": "display_data"
    }
   ],
   "source": [
    "# Draw plot\n",
    "fig, ax = plt.subplots(figsize=(8,5), dpi= 80)\n",
    "ax.vlines(x=vizdf.index, ymin=0, ymax=vizdf.cosine_similarity, color='firebrick', alpha=0.7, linewidth=2)\n",
    "ax.scatter(x=vizdf.index, y=vizdf.cosine_similarity, s=75, color='firebrick', alpha=0.7)\n",
    "\n",
    "# Title, Label, Ticks and Ylim\n",
    "ax.set_title('Top 10 similar artists to Deadmau5 based on user listening preferences', fontdict={'size':15})\n",
    "ax.set_ylabel('Cosine Similarity')\n",
    "ax.set_xticks(vizdf.index)\n",
    "ax.set_xticklabels(vizdf.index, rotation=60, fontdict={'horizontalalignment': 'right', 'size':12})\n",
    "ax.set_ylim(0, .5)\n",
    "\n",
    "# Annotate\n",
    "# for row in vizdf.itertuples():\n",
    "#     ax.text(row.Index, row.cty+.5, s=round(row.cty, 2), horizontalalignment= 'center', verticalalignment='bottom', fontsize=14)\n",
    "\n",
    "plt.show()"
   ]
  },
  {
   "cell_type": "markdown",
   "metadata": {},
   "source": [
    "##### top 10 similar artists for a.r. rahman based on user listening preferences"
   ]
  },
  {
   "cell_type": "code",
   "execution_count": 64,
   "metadata": {},
   "outputs": [],
   "source": [
    "vizdf = pd.DataFrame(data_matrix.loc['a.r. rahman'].nlargest(11)[1:])\n",
    "vizdf.columns = ['cosine_similarity']"
   ]
  },
  {
   "cell_type": "code",
   "execution_count": 65,
   "metadata": {},
   "outputs": [
    {
     "data": {
      "image/png": "[encoded data removed]",
      "text/plain": [
       "<Figure size 640x400 with 1 Axes>"
      ]
     },
     "metadata": {
      "needs_background": "light"
     },
     "output_type": "display_data"
    }
   ],
   "source": [
    "# Draw plot\n",
    "fig, ax = plt.subplots(figsize=(8,5), dpi= 80)\n",
    "ax.vlines(x=vizdf.index, ymin=0, ymax=vizdf.cosine_similarity, color='firebrick', alpha=0.7, linewidth=2)\n",
    "ax.scatter(x=vizdf.index, y=vizdf.cosine_similarity, s=75, color='firebrick', alpha=0.7)\n",
    "\n",
    "# Title, Label, Ticks and Ylim\n",
    "ax.set_title('Top 10 similar artists to A.R. Rahman based on user listening preferences', fontdict={'size':15})\n",
    "ax.set_ylabel('Cosine Similarity')\n",
    "ax.set_xticks(vizdf.index)\n",
    "ax.set_xticklabels(vizdf.index, rotation=60, fontdict={'horizontalalignment': 'right', 'size':12})\n",
    "ax.set_ylim(0, .5)\n",
    "\n",
    "# Annotate\n",
    "# for row in vizdf.itertuples():\n",
    "#     ax.text(row.Index, row.cty+.5, s=round(row.cty, 2), horizontalalignment= 'center', verticalalignment='bottom', fontsize=14)\n",
    "\n",
    "plt.show()"
   ]
  },
  {
   "cell_type": "markdown",
   "metadata": {},
   "source": [
    "#### User Item Calculations"
   ]
  },
  {
   "cell_type": "code",
   "execution_count": 66,
   "metadata": {},
   "outputs": [],
   "source": [
    "# Constructing a new dataframe with the 10 closest neighbours (most similar) for each artist.\n",
    "data_neighbours = pd.DataFrame(index=data_matrix.columns, columns=range(1,11))\n",
    "for i in range(0, len(data_matrix.columns)):\n",
    "    data_neighbours.iloc[i,:10] = data_matrix.iloc[0:,i].sort_values(ascending=False)[:10].index"
   ]
  },
  {
   "cell_type": "code",
   "execution_count": 67,
   "metadata": {},
   "outputs": [],
   "source": [
    "# Building artist recommendation for Pranay\n",
    "user = 'Pranay_Singla'\n",
    "user_index = lastfm_subset[lastfm_subset.user == user].index.tolist()[0]"
   ]
  },
  {
   "cell_type": "code",
   "execution_count": 68,
   "metadata": {},
   "outputs": [],
   "source": [
    "# Getting the artists the user has played.\n",
    "known_user_likes = data_items.iloc[user_index]\n",
    "known_user_likes = known_user_likes[known_user_likes >0].index.values"
   ]
  },
  {
   "cell_type": "code",
   "execution_count": 69,
   "metadata": {},
   "outputs": [],
   "source": [
    "# Constructing the neighbourhood from the most similar items to the ones our user has already liked.\n",
    "most_similar_to_likes = data_neighbours.loc[known_user_likes]\n",
    "similar_list = most_similar_to_likes.values.tolist()\n",
    "similar_list = list(set([item for sublist in similar_list for item in sublist]))\n",
    "neighbourhood = data_matrix[similar_list].loc[similar_list]"
   ]
  },
  {
   "cell_type": "code",
   "execution_count": 70,
   "metadata": {},
   "outputs": [],
   "source": [
    "# A user vector containing only the neighbourhood items and the known user likes.\n",
    "user_vector = data_items.iloc[user_index].loc[similar_list]"
   ]
  },
  {
   "cell_type": "code",
   "execution_count": 71,
   "metadata": {},
   "outputs": [],
   "source": [
    "# Calculating the score.\n",
    "score = neighbourhood.dot(user_vector).div(neighbourhood.sum(axis=1))\n",
    "# Dropping known likes.\n",
    "score = score.drop(known_user_likes)"
   ]
  },
  {
   "cell_type": "code",
   "execution_count": 72,
   "metadata": {},
   "outputs": [
    {
     "name": "stdout",
     "output_type": "stream",
     "text": [
      "Top recommendations for Pranay\n",
      "\n",
      "electric light orchestra    0.040966\n",
      "jethro tull                 0.039964\n",
      "eric clapton                0.039452\n",
      "billy joel                  0.039441\n",
      "van halen                   0.039383\n",
      "elvis presley               0.038365\n",
      "genesis                     0.038293\n",
      "rush                        0.038089\n",
      "3 doors down                0.037800\n",
      "enya                        0.037751\n",
      "the rolling stones          0.037433\n",
      "black sabbath               0.037340\n",
      "the doors                   0.037246\n",
      "bruce springsteen           0.037127\n",
      "steely dan                  0.037093\n",
      "dtype: float64\n"
     ]
    }
   ],
   "source": [
    "print('Top recommendations for Pranay')\n",
    "print()\n",
    "print(score.nlargest(15))"
   ]
  },
  {
   "cell_type": "code",
   "execution_count": 73,
   "metadata": {},
   "outputs": [],
   "source": [
    "vizdf = pd.DataFrame(score.nlargest(10))\n",
    "vizdf.columns = ['similarity_score']"
   ]
  },
  {
   "cell_type": "code",
   "execution_count": 74,
   "metadata": {},
   "outputs": [
    {
     "data": {
      "image/png": "[encoded data removed]",
      "text/plain": [
       "<Figure size 640x400 with 1 Axes>"
      ]
     },
     "metadata": {},
     "output_type": "display_data"
    }
   ],
   "source": [
    "# Draw plot\n",
    "fig, ax = plt.subplots(figsize=(8,5), facecolor = 'white',dpi= 80)\n",
    "ax.vlines(x=vizdf.index, ymin=0, ymax=vizdf.similarity_score, color='blue', alpha=0.7, linewidth=10)\n",
    "\n",
    "# Title, Label, Ticks and Ylim\n",
    "ax.set_title('Top 10 artist recommendations for Pranay', fontdict={'size':15})\n",
    "ax.set(ylabel = 'Similarity Score', ylim = (0.035, 0.042))\n",
    "ax.set_xticks(vizdf.index)\n",
    "ax.set_xticklabels(vizdf.index, rotation=60, fontdict={'horizontalalignment': 'right', 'size':12})\n",
    "\n",
    "# Annotate\n",
    "# for row in vizdf.itertuples():\n",
    "#     ax.text(row.Index, row.cty+.5, s=round(row.cty, 2), horizontalalignment= 'center', verticalalignment='bottom', fontsize=14)\n",
    "\n",
    "plt.show()"
   ]
  },
  {
   "cell_type": "code",
   "execution_count": 75,
   "metadata": {},
   "outputs": [],
   "source": [
    "data_neighbours.to_csv('similar_artist.csv')"
   ]
  },
  {
   "cell_type": "code",
   "execution_count": null,
   "metadata": {},
   "outputs": [],
   "source": []
  }
 ],
 "metadata": {
  "kernelspec": {
   "display_name": "Python 3",
   "language": "python",
   "name": "python3"
  },
  "language_info": {
   "codemirror_mode": {
    "name": "ipython",
    "version": 3
   },
   "file_extension": ".py",
   "mimetype": "text/x-python",
   "name": "python",
   "nbconvert_exporter": "python",
   "pygments_lexer": "ipython3",
   "version": "3.7.9"
  }
 },
 "nbformat": 4,
 "nbformat_minor": 4
}
